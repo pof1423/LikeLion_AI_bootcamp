{
  "cells": [
    {
      "cell_type": "markdown",
      "id": "974de5e4-6c33-48eb-9d71-70802082b7be",
      "metadata": {
        "id": "974de5e4-6c33-48eb-9d71-70802082b7be"
      },
      "source": [
        "# Homework#2"
      ]
    },
    {
      "cell_type": "code",
      "execution_count": 1,
      "id": "fa174467-701d-4647-b95a-4282bd4c6c19",
      "metadata": {
        "colab": {
          "base_uri": "https://localhost:8080/"
        },
        "id": "fa174467-701d-4647-b95a-4282bd4c6c19",
        "outputId": "14dfda33-e993-4c3a-eb6f-c6254e5180c3"
      },
      "outputs": [
        {
          "output_type": "stream",
          "name": "stdout",
          "text": [
            "Mounted at /content/drive\n"
          ]
        }
      ],
      "source": [
        "import pandas as pd\n",
        "\n",
        "from google.colab import drive\n",
        "drive.mount('/content/drive')\n",
        "\n",
        "import warnings\n",
        "warnings.simplefilter(action='ignore', category=FutureWarning)"
      ]
    },
    {
      "cell_type": "code",
      "source": [
        "tada_eta = pd.read_excel('/content/drive/MyDrive/Colab Notebooks/tada_eta.xlsx')\n",
        "tada_eta.head()"
      ],
      "metadata": {
        "colab": {
          "base_uri": "https://localhost:8080/",
          "height": 206
        },
        "id": "QwgEXSBUl9qX",
        "outputId": "d1dc8dca-af75-4541-ff95-98caaeea1631"
      },
      "id": "QwgEXSBUl9qX",
      "execution_count": 2,
      "outputs": [
        {
          "output_type": "execute_result",
          "data": {
            "text/plain": [
              "     ATA              id  api_eta       created_at_kst  month  pickup_lng  \\\n",
              "0  10.60  R4L9FL6NVEL4D0     5.65  2019-12-01T00:55:09     12  127.091399   \n",
              "1   9.20  R3A7JBY7CS6TPD     8.60  2019-12-01T00:09:39     12  127.023351   \n",
              "2  10.85  R2BIUY1TDK14XE    10.53  2019-12-15T00:18:42     12  126.881154   \n",
              "3   5.52  R31PU5GNHSGU6C     1.92  2019-07-31T00:24:11      7  126.988375   \n",
              "4   8.60  R41WR6N1VT42DJ     7.10  2019-07-05T00:40:34      7  126.988684   \n",
              "\n",
              "   pickup_lat pickup_gu driver_id  driver_lng  driver_lat  hour  \n",
              "0   37.624545       노원구  DST52944  127.069978   37.616472     0  \n",
              "1   37.625564       강북구  DPC72995  127.026479   37.604711     0  \n",
              "2   37.481641       금천구  DPP94923  126.906225   37.452167     0  \n",
              "3   37.567897        중구  DCT73585  126.991170   37.566416     0  \n",
              "4   37.566716        중구  DPJ86237  127.006860   37.571164     0  "
            ],
            "text/html": [
              "\n",
              "  <div id=\"df-16911e40-25c2-45f3-b89b-8d4d6abc0b0c\">\n",
              "    <div class=\"colab-df-container\">\n",
              "      <div>\n",
              "<style scoped>\n",
              "    .dataframe tbody tr th:only-of-type {\n",
              "        vertical-align: middle;\n",
              "    }\n",
              "\n",
              "    .dataframe tbody tr th {\n",
              "        vertical-align: top;\n",
              "    }\n",
              "\n",
              "    .dataframe thead th {\n",
              "        text-align: right;\n",
              "    }\n",
              "</style>\n",
              "<table border=\"1\" class=\"dataframe\">\n",
              "  <thead>\n",
              "    <tr style=\"text-align: right;\">\n",
              "      <th></th>\n",
              "      <th>ATA</th>\n",
              "      <th>id</th>\n",
              "      <th>api_eta</th>\n",
              "      <th>created_at_kst</th>\n",
              "      <th>month</th>\n",
              "      <th>pickup_lng</th>\n",
              "      <th>pickup_lat</th>\n",
              "      <th>pickup_gu</th>\n",
              "      <th>driver_id</th>\n",
              "      <th>driver_lng</th>\n",
              "      <th>driver_lat</th>\n",
              "      <th>hour</th>\n",
              "    </tr>\n",
              "  </thead>\n",
              "  <tbody>\n",
              "    <tr>\n",
              "      <th>0</th>\n",
              "      <td>10.60</td>\n",
              "      <td>R4L9FL6NVEL4D0</td>\n",
              "      <td>5.65</td>\n",
              "      <td>2019-12-01T00:55:09</td>\n",
              "      <td>12</td>\n",
              "      <td>127.091399</td>\n",
              "      <td>37.624545</td>\n",
              "      <td>노원구</td>\n",
              "      <td>DST52944</td>\n",
              "      <td>127.069978</td>\n",
              "      <td>37.616472</td>\n",
              "      <td>0</td>\n",
              "    </tr>\n",
              "    <tr>\n",
              "      <th>1</th>\n",
              "      <td>9.20</td>\n",
              "      <td>R3A7JBY7CS6TPD</td>\n",
              "      <td>8.60</td>\n",
              "      <td>2019-12-01T00:09:39</td>\n",
              "      <td>12</td>\n",
              "      <td>127.023351</td>\n",
              "      <td>37.625564</td>\n",
              "      <td>강북구</td>\n",
              "      <td>DPC72995</td>\n",
              "      <td>127.026479</td>\n",
              "      <td>37.604711</td>\n",
              "      <td>0</td>\n",
              "    </tr>\n",
              "    <tr>\n",
              "      <th>2</th>\n",
              "      <td>10.85</td>\n",
              "      <td>R2BIUY1TDK14XE</td>\n",
              "      <td>10.53</td>\n",
              "      <td>2019-12-15T00:18:42</td>\n",
              "      <td>12</td>\n",
              "      <td>126.881154</td>\n",
              "      <td>37.481641</td>\n",
              "      <td>금천구</td>\n",
              "      <td>DPP94923</td>\n",
              "      <td>126.906225</td>\n",
              "      <td>37.452167</td>\n",
              "      <td>0</td>\n",
              "    </tr>\n",
              "    <tr>\n",
              "      <th>3</th>\n",
              "      <td>5.52</td>\n",
              "      <td>R31PU5GNHSGU6C</td>\n",
              "      <td>1.92</td>\n",
              "      <td>2019-07-31T00:24:11</td>\n",
              "      <td>7</td>\n",
              "      <td>126.988375</td>\n",
              "      <td>37.567897</td>\n",
              "      <td>중구</td>\n",
              "      <td>DCT73585</td>\n",
              "      <td>126.991170</td>\n",
              "      <td>37.566416</td>\n",
              "      <td>0</td>\n",
              "    </tr>\n",
              "    <tr>\n",
              "      <th>4</th>\n",
              "      <td>8.60</td>\n",
              "      <td>R41WR6N1VT42DJ</td>\n",
              "      <td>7.10</td>\n",
              "      <td>2019-07-05T00:40:34</td>\n",
              "      <td>7</td>\n",
              "      <td>126.988684</td>\n",
              "      <td>37.566716</td>\n",
              "      <td>중구</td>\n",
              "      <td>DPJ86237</td>\n",
              "      <td>127.006860</td>\n",
              "      <td>37.571164</td>\n",
              "      <td>0</td>\n",
              "    </tr>\n",
              "  </tbody>\n",
              "</table>\n",
              "</div>\n",
              "      <button class=\"colab-df-convert\" onclick=\"convertToInteractive('df-16911e40-25c2-45f3-b89b-8d4d6abc0b0c')\"\n",
              "              title=\"Convert this dataframe to an interactive table.\"\n",
              "              style=\"display:none;\">\n",
              "        \n",
              "  <svg xmlns=\"http://www.w3.org/2000/svg\" height=\"24px\"viewBox=\"0 0 24 24\"\n",
              "       width=\"24px\">\n",
              "    <path d=\"M0 0h24v24H0V0z\" fill=\"none\"/>\n",
              "    <path d=\"M18.56 5.44l.94 2.06.94-2.06 2.06-.94-2.06-.94-.94-2.06-.94 2.06-2.06.94zm-11 1L8.5 8.5l.94-2.06 2.06-.94-2.06-.94L8.5 2.5l-.94 2.06-2.06.94zm10 10l.94 2.06.94-2.06 2.06-.94-2.06-.94-.94-2.06-.94 2.06-2.06.94z\"/><path d=\"M17.41 7.96l-1.37-1.37c-.4-.4-.92-.59-1.43-.59-.52 0-1.04.2-1.43.59L10.3 9.45l-7.72 7.72c-.78.78-.78 2.05 0 2.83L4 21.41c.39.39.9.59 1.41.59.51 0 1.02-.2 1.41-.59l7.78-7.78 2.81-2.81c.8-.78.8-2.07 0-2.86zM5.41 20L4 18.59l7.72-7.72 1.47 1.35L5.41 20z\"/>\n",
              "  </svg>\n",
              "      </button>\n",
              "      \n",
              "  <style>\n",
              "    .colab-df-container {\n",
              "      display:flex;\n",
              "      flex-wrap:wrap;\n",
              "      gap: 12px;\n",
              "    }\n",
              "\n",
              "    .colab-df-convert {\n",
              "      background-color: #E8F0FE;\n",
              "      border: none;\n",
              "      border-radius: 50%;\n",
              "      cursor: pointer;\n",
              "      display: none;\n",
              "      fill: #1967D2;\n",
              "      height: 32px;\n",
              "      padding: 0 0 0 0;\n",
              "      width: 32px;\n",
              "    }\n",
              "\n",
              "    .colab-df-convert:hover {\n",
              "      background-color: #E2EBFA;\n",
              "      box-shadow: 0px 1px 2px rgba(60, 64, 67, 0.3), 0px 1px 3px 1px rgba(60, 64, 67, 0.15);\n",
              "      fill: #174EA6;\n",
              "    }\n",
              "\n",
              "    [theme=dark] .colab-df-convert {\n",
              "      background-color: #3B4455;\n",
              "      fill: #D2E3FC;\n",
              "    }\n",
              "\n",
              "    [theme=dark] .colab-df-convert:hover {\n",
              "      background-color: #434B5C;\n",
              "      box-shadow: 0px 1px 3px 1px rgba(0, 0, 0, 0.15);\n",
              "      filter: drop-shadow(0px 1px 2px rgba(0, 0, 0, 0.3));\n",
              "      fill: #FFFFFF;\n",
              "    }\n",
              "  </style>\n",
              "\n",
              "      <script>\n",
              "        const buttonEl =\n",
              "          document.querySelector('#df-16911e40-25c2-45f3-b89b-8d4d6abc0b0c button.colab-df-convert');\n",
              "        buttonEl.style.display =\n",
              "          google.colab.kernel.accessAllowed ? 'block' : 'none';\n",
              "\n",
              "        async function convertToInteractive(key) {\n",
              "          const element = document.querySelector('#df-16911e40-25c2-45f3-b89b-8d4d6abc0b0c');\n",
              "          const dataTable =\n",
              "            await google.colab.kernel.invokeFunction('convertToInteractive',\n",
              "                                                     [key], {});\n",
              "          if (!dataTable) return;\n",
              "\n",
              "          const docLinkHtml = 'Like what you see? Visit the ' +\n",
              "            '<a target=\"_blank\" href=https://colab.research.google.com/notebooks/data_table.ipynb>data table notebook</a>'\n",
              "            + ' to learn more about interactive tables.';\n",
              "          element.innerHTML = '';\n",
              "          dataTable['output_type'] = 'display_data';\n",
              "          await google.colab.output.renderOutput(dataTable, element);\n",
              "          const docLink = document.createElement('div');\n",
              "          docLink.innerHTML = docLinkHtml;\n",
              "          element.appendChild(docLink);\n",
              "        }\n",
              "      </script>\n",
              "    </div>\n",
              "  </div>\n",
              "  "
            ]
          },
          "metadata": {},
          "execution_count": 2
        }
      ]
    },
    {
      "cell_type": "code",
      "execution_count": 3,
      "id": "90151c70-1381-4050-921e-3a6d4f406b7a",
      "metadata": {
        "id": "90151c70-1381-4050-921e-3a6d4f406b7a",
        "outputId": "98d2c9f6-246c-4ea4-b9c7-05ecad9cb080",
        "colab": {
          "base_uri": "https://localhost:8080/",
          "height": 206
        }
      },
      "outputs": [
        {
          "output_type": "execute_result",
          "data": {
            "text/plain": [
              "     ATA  api_eta  hour   distance\n",
              "0  10.60     5.65     0   5.240020\n",
              "1   9.20     8.60     0   4.446589\n",
              "2  10.85    10.53     0  14.973154\n",
              "3   5.52     1.92     0   0.100054\n",
              "4   8.60     7.10     0   3.501480"
            ],
            "text/html": [
              "\n",
              "  <div id=\"df-ae11638a-949e-47be-9ccf-65eee9f94dcc\">\n",
              "    <div class=\"colab-df-container\">\n",
              "      <div>\n",
              "<style scoped>\n",
              "    .dataframe tbody tr th:only-of-type {\n",
              "        vertical-align: middle;\n",
              "    }\n",
              "\n",
              "    .dataframe tbody tr th {\n",
              "        vertical-align: top;\n",
              "    }\n",
              "\n",
              "    .dataframe thead th {\n",
              "        text-align: right;\n",
              "    }\n",
              "</style>\n",
              "<table border=\"1\" class=\"dataframe\">\n",
              "  <thead>\n",
              "    <tr style=\"text-align: right;\">\n",
              "      <th></th>\n",
              "      <th>ATA</th>\n",
              "      <th>api_eta</th>\n",
              "      <th>hour</th>\n",
              "      <th>distance</th>\n",
              "    </tr>\n",
              "  </thead>\n",
              "  <tbody>\n",
              "    <tr>\n",
              "      <th>0</th>\n",
              "      <td>10.60</td>\n",
              "      <td>5.65</td>\n",
              "      <td>0</td>\n",
              "      <td>5.240020</td>\n",
              "    </tr>\n",
              "    <tr>\n",
              "      <th>1</th>\n",
              "      <td>9.20</td>\n",
              "      <td>8.60</td>\n",
              "      <td>0</td>\n",
              "      <td>4.446589</td>\n",
              "    </tr>\n",
              "    <tr>\n",
              "      <th>2</th>\n",
              "      <td>10.85</td>\n",
              "      <td>10.53</td>\n",
              "      <td>0</td>\n",
              "      <td>14.973154</td>\n",
              "    </tr>\n",
              "    <tr>\n",
              "      <th>3</th>\n",
              "      <td>5.52</td>\n",
              "      <td>1.92</td>\n",
              "      <td>0</td>\n",
              "      <td>0.100054</td>\n",
              "    </tr>\n",
              "    <tr>\n",
              "      <th>4</th>\n",
              "      <td>8.60</td>\n",
              "      <td>7.10</td>\n",
              "      <td>0</td>\n",
              "      <td>3.501480</td>\n",
              "    </tr>\n",
              "  </tbody>\n",
              "</table>\n",
              "</div>\n",
              "      <button class=\"colab-df-convert\" onclick=\"convertToInteractive('df-ae11638a-949e-47be-9ccf-65eee9f94dcc')\"\n",
              "              title=\"Convert this dataframe to an interactive table.\"\n",
              "              style=\"display:none;\">\n",
              "        \n",
              "  <svg xmlns=\"http://www.w3.org/2000/svg\" height=\"24px\"viewBox=\"0 0 24 24\"\n",
              "       width=\"24px\">\n",
              "    <path d=\"M0 0h24v24H0V0z\" fill=\"none\"/>\n",
              "    <path d=\"M18.56 5.44l.94 2.06.94-2.06 2.06-.94-2.06-.94-.94-2.06-.94 2.06-2.06.94zm-11 1L8.5 8.5l.94-2.06 2.06-.94-2.06-.94L8.5 2.5l-.94 2.06-2.06.94zm10 10l.94 2.06.94-2.06 2.06-.94-2.06-.94-.94-2.06-.94 2.06-2.06.94z\"/><path d=\"M17.41 7.96l-1.37-1.37c-.4-.4-.92-.59-1.43-.59-.52 0-1.04.2-1.43.59L10.3 9.45l-7.72 7.72c-.78.78-.78 2.05 0 2.83L4 21.41c.39.39.9.59 1.41.59.51 0 1.02-.2 1.41-.59l7.78-7.78 2.81-2.81c.8-.78.8-2.07 0-2.86zM5.41 20L4 18.59l7.72-7.72 1.47 1.35L5.41 20z\"/>\n",
              "  </svg>\n",
              "      </button>\n",
              "      \n",
              "  <style>\n",
              "    .colab-df-container {\n",
              "      display:flex;\n",
              "      flex-wrap:wrap;\n",
              "      gap: 12px;\n",
              "    }\n",
              "\n",
              "    .colab-df-convert {\n",
              "      background-color: #E8F0FE;\n",
              "      border: none;\n",
              "      border-radius: 50%;\n",
              "      cursor: pointer;\n",
              "      display: none;\n",
              "      fill: #1967D2;\n",
              "      height: 32px;\n",
              "      padding: 0 0 0 0;\n",
              "      width: 32px;\n",
              "    }\n",
              "\n",
              "    .colab-df-convert:hover {\n",
              "      background-color: #E2EBFA;\n",
              "      box-shadow: 0px 1px 2px rgba(60, 64, 67, 0.3), 0px 1px 3px 1px rgba(60, 64, 67, 0.15);\n",
              "      fill: #174EA6;\n",
              "    }\n",
              "\n",
              "    [theme=dark] .colab-df-convert {\n",
              "      background-color: #3B4455;\n",
              "      fill: #D2E3FC;\n",
              "    }\n",
              "\n",
              "    [theme=dark] .colab-df-convert:hover {\n",
              "      background-color: #434B5C;\n",
              "      box-shadow: 0px 1px 3px 1px rgba(0, 0, 0, 0.15);\n",
              "      filter: drop-shadow(0px 1px 2px rgba(0, 0, 0, 0.3));\n",
              "      fill: #FFFFFF;\n",
              "    }\n",
              "  </style>\n",
              "\n",
              "      <script>\n",
              "        const buttonEl =\n",
              "          document.querySelector('#df-ae11638a-949e-47be-9ccf-65eee9f94dcc button.colab-df-convert');\n",
              "        buttonEl.style.display =\n",
              "          google.colab.kernel.accessAllowed ? 'block' : 'none';\n",
              "\n",
              "        async function convertToInteractive(key) {\n",
              "          const element = document.querySelector('#df-ae11638a-949e-47be-9ccf-65eee9f94dcc');\n",
              "          const dataTable =\n",
              "            await google.colab.kernel.invokeFunction('convertToInteractive',\n",
              "                                                     [key], {});\n",
              "          if (!dataTable) return;\n",
              "\n",
              "          const docLinkHtml = 'Like what you see? Visit the ' +\n",
              "            '<a target=\"_blank\" href=https://colab.research.google.com/notebooks/data_table.ipynb>data table notebook</a>'\n",
              "            + ' to learn more about interactive tables.';\n",
              "          element.innerHTML = '';\n",
              "          dataTable['output_type'] = 'display_data';\n",
              "          await google.colab.output.renderOutput(dataTable, element);\n",
              "          const docLink = document.createElement('div');\n",
              "          docLink.innerHTML = docLinkHtml;\n",
              "          element.appendChild(docLink);\n",
              "        }\n",
              "      </script>\n",
              "    </div>\n",
              "  </div>\n",
              "  "
            ]
          },
          "metadata": {},
          "execution_count": 3
        }
      ],
      "source": [
        "# 불필요한 feature 제거 및 distance feature 추가\n",
        "eta1 = tada_eta.drop(['id', 'created_at_kst', 'month', 'pickup_lng', 'pickup_lat', 'pickup_gu', 'driver_id', 'driver_lng', 'driver_lat'], 1)\n",
        "eta1['distance'] = ((tada_eta['pickup_lat']-tada_eta['driver_lat'])**2 + (tada_eta['pickup_lng']-tada_eta['driver_lng'])**2)*10000\n",
        "eta1.head()"
      ]
    },
    {
      "cell_type": "code",
      "execution_count": 4,
      "id": "a2d21512-7999-4fa6-9004-c23bdde424cf",
      "metadata": {
        "id": "a2d21512-7999-4fa6-9004-c23bdde424cf"
      },
      "outputs": [],
      "source": [
        "import numpy as np\n",
        "train = eta1[:12000]\n",
        "test = eta1[12000:]\n",
        "x_tn = np.asarray(train.drop('ATA', 1))\n",
        "x_te = np.asarray(test.drop('ATA', 1))\n",
        "y_tn = np.asarray(train['ATA'])\n",
        "y_te = np.asarray(test['ATA'])\n",
        "eta_features = [x for i, x in enumerate(eta1.columns) if i != 0]"
      ]
    },
    {
      "cell_type": "code",
      "execution_count": 5,
      "id": "ed6e1dcf-986d-40b5-a44e-1ebb8f927e70",
      "metadata": {
        "id": "ed6e1dcf-986d-40b5-a44e-1ebb8f927e70"
      },
      "outputs": [],
      "source": [
        "from sklearn.metrics import mean_squared_error\n",
        "from sklearn.metrics import mean_absolute_error\n",
        "from sklearn import ensemble"
      ]
    },
    {
      "cell_type": "code",
      "execution_count": 6,
      "id": "9c080d4c-f970-44fb-8557-ff2d43c66793",
      "metadata": {
        "id": "9c080d4c-f970-44fb-8557-ff2d43c66793"
      },
      "outputs": [],
      "source": [
        "params1 = {\n",
        "    'n_estimators' : 100,\n",
        "    'max_depth' : 3,\n",
        "    'min_samples_leaf' : 5,\n",
        "    'learning_rate' : 0.05,\n",
        "    'loss' : 'ls'\n",
        "}"
      ]
    },
    {
      "cell_type": "code",
      "execution_count": 7,
      "id": "9a333652-d062-4dee-86da-35f83878449d",
      "metadata": {
        "id": "9a333652-d062-4dee-86da-35f83878449d",
        "outputId": "4f9240ee-4052-4b7c-da55-86eba3cf0717",
        "colab": {
          "base_uri": "https://localhost:8080/"
        }
      },
      "outputs": [
        {
          "output_type": "stream",
          "name": "stdout",
          "text": [
            "Errors of Regression model #1\n",
            "The mean squared error(MSE) on test set: 6.8428\n",
            "The initial error of API ETA on test set: 8.8452\n",
            "The mean absolute error (MAE) on test set: 2.0255\n",
            "The initial error of API ETA on test set: 2.0851\n"
          ]
        }
      ],
      "source": [
        "reg1 = ensemble.GradientBoostingRegressor(**params1)\n",
        "\n",
        "reg1.fit(x_tn, y_tn)\n",
        "\n",
        "print(\"Errors of Regression model #1\")\n",
        "mse = mean_squared_error(y_te, reg1.predict(x_te))\n",
        "print(\"The mean squared error(MSE) on test set: {:.4f}\".format(mse))\n",
        "print(\"The initial error of API ETA on test set: {:.4f}\".format(mean_squared_error(y_te, x_te[:,0]) ))\n",
        "\n",
        "mae = mean_absolute_error(y_te, reg1.predict(x_te))\n",
        "print(\"The mean absolute error (MAE) on test set: {:.4f}\".format(mae))\n",
        "print(\"The initial error of API ETA on test set: {:.4f}\".format(mean_absolute_error(y_te, x_te[:,0]) ))"
      ]
    },
    {
      "cell_type": "code",
      "execution_count": 8,
      "id": "ee168747-cefd-46c4-88c2-e978a242a25e",
      "metadata": {
        "id": "ee168747-cefd-46c4-88c2-e978a242a25e"
      },
      "outputs": [],
      "source": [
        "params2 = {\n",
        "    'n_estimators' : 100,\n",
        "    'max_depth' : 4,\n",
        "    'min_samples_leaf' : 5,\n",
        "    'learning_rate' : 0.05,\n",
        "    'loss' : 'ls'\n",
        "}"
      ]
    },
    {
      "cell_type": "code",
      "execution_count": 9,
      "id": "f135f96d-9dce-4a8c-9e18-a01bd2d525af",
      "metadata": {
        "id": "f135f96d-9dce-4a8c-9e18-a01bd2d525af",
        "outputId": "9189351b-bf66-4472-cb3b-c3dfcaa985d0",
        "colab": {
          "base_uri": "https://localhost:8080/"
        }
      },
      "outputs": [
        {
          "output_type": "stream",
          "name": "stdout",
          "text": [
            "Errors of Regression model #2\n",
            "The mean squared error(MSE) on test set: 6.8122\n",
            "The initial error of API ETA on test set: 8.8452\n",
            "The mean absolute error (MAE) on test set: 2.0128\n",
            "The initial error of API ETA on test set: 2.0851\n"
          ]
        }
      ],
      "source": [
        "reg2 = ensemble.GradientBoostingRegressor(**params2)\n",
        "\n",
        "reg2.fit(x_tn, y_tn)\n",
        "\n",
        "print(\"Errors of Regression model #2\")\n",
        "mse = mean_squared_error(y_te, reg2.predict(x_te))\n",
        "print(\"The mean squared error(MSE) on test set: {:.4f}\".format(mse))\n",
        "print(\"The initial error of API ETA on test set: {:.4f}\".format(mean_squared_error(y_te, x_te[:,0]) ))\n",
        "\n",
        "mae = mean_absolute_error(y_te, reg2.predict(x_te))\n",
        "print(\"The mean absolute error (MAE) on test set: {:.4f}\".format(mae))\n",
        "print(\"The initial error of API ETA on test set: {:.4f}\".format(mean_absolute_error(y_te, x_te[:,0]) ))"
      ]
    },
    {
      "cell_type": "code",
      "execution_count": 10,
      "id": "59bc4249-117b-4114-8e9b-521b228ee227",
      "metadata": {
        "id": "59bc4249-117b-4114-8e9b-521b228ee227"
      },
      "outputs": [],
      "source": [
        "params3 = {\n",
        "    'n_estimators' : 100,\n",
        "    'max_depth' : 3,\n",
        "    'min_samples_leaf' : 10,\n",
        "    'learning_rate' : 0.05,\n",
        "    'loss' : 'ls'\n",
        "}"
      ]
    },
    {
      "cell_type": "code",
      "execution_count": 11,
      "id": "dbabc8da-7a91-4870-beb2-87ff2aa08e32",
      "metadata": {
        "id": "dbabc8da-7a91-4870-beb2-87ff2aa08e32",
        "outputId": "620c4eb3-c67e-490f-8b9d-622d77828294",
        "colab": {
          "base_uri": "https://localhost:8080/"
        }
      },
      "outputs": [
        {
          "output_type": "stream",
          "name": "stdout",
          "text": [
            "Errors of Regression model #3\n",
            "The mean squared error(MSE) on test set: 6.8480\n",
            "The initial error of API ETA on test set: 8.8452\n",
            "The mean absolute error (MAE) on test set: 2.0290\n",
            "The initial error of API ETA on test set: 2.0851\n"
          ]
        }
      ],
      "source": [
        "reg3 = ensemble.GradientBoostingRegressor(**params3)\n",
        "\n",
        "reg3.fit(x_tn, y_tn)\n",
        "\n",
        "print(\"Errors of Regression model #3\")\n",
        "mse = mean_squared_error(y_te, reg3.predict(x_te))\n",
        "print(\"The mean squared error(MSE) on test set: {:.4f}\".format(mse))\n",
        "print(\"The initial error of API ETA on test set: {:.4f}\".format(mean_squared_error(y_te, x_te[:,0]) ))\n",
        "\n",
        "mae = mean_absolute_error(y_te, reg3.predict(x_te))\n",
        "print(\"The mean absolute error (MAE) on test set: {:.4f}\".format(mae))\n",
        "print(\"The initial error of API ETA on test set: {:.4f}\".format(mean_absolute_error(y_te, x_te[:,0]) ))"
      ]
    },
    {
      "cell_type": "code",
      "execution_count": 12,
      "id": "c3e199d6-7240-4d07-a4a1-7cdad173ac80",
      "metadata": {
        "id": "c3e199d6-7240-4d07-a4a1-7cdad173ac80"
      },
      "outputs": [],
      "source": [
        "params4 = {\n",
        "    'n_estimators' : 100,\n",
        "    'max_depth' : 3,\n",
        "    'min_samples_leaf' : 10,\n",
        "    'learning_rate' : 0.01,\n",
        "    'loss' : 'ls'\n",
        "}"
      ]
    },
    {
      "cell_type": "code",
      "execution_count": 13,
      "id": "8ad9f305-2e6a-4724-803d-fd2e3f144034",
      "metadata": {
        "id": "8ad9f305-2e6a-4724-803d-fd2e3f144034",
        "outputId": "47b6fa9c-76fe-40f0-95fa-f99782c18d04",
        "colab": {
          "base_uri": "https://localhost:8080/"
        }
      },
      "outputs": [
        {
          "output_type": "stream",
          "name": "stdout",
          "text": [
            "Errors of Regression model #4\n",
            "The mean squared error(MSE) on test set: 7.4636\n",
            "The initial error of API ETA on test set: 8.8452\n",
            "The mean absolute error (MAE) on test set: 2.1616\n",
            "The initial error of API ETA on test set: 2.0851\n"
          ]
        }
      ],
      "source": [
        "reg4 = ensemble.GradientBoostingRegressor(**params4)\n",
        "\n",
        "reg4.fit(x_tn, y_tn)\n",
        "\n",
        "print(\"Errors of Regression model #4\")\n",
        "mse = mean_squared_error(y_te, reg4.predict(x_te))\n",
        "print(\"The mean squared error(MSE) on test set: {:.4f}\".format(mse))\n",
        "print(\"The initial error of API ETA on test set: {:.4f}\".format(mean_squared_error(y_te, x_te[:,0]) ))\n",
        "\n",
        "mae = mean_absolute_error(y_te, reg4.predict(x_te))\n",
        "print(\"The mean absolute error (MAE) on test set: {:.4f}\".format(mae))\n",
        "print(\"The initial error of API ETA on test set: {:.4f}\".format(mean_absolute_error(y_te, x_te[:,0]) ))"
      ]
    },
    {
      "cell_type": "code",
      "execution_count": 14,
      "id": "37b15612-1502-4966-a029-862361671d13",
      "metadata": {
        "id": "37b15612-1502-4966-a029-862361671d13"
      },
      "outputs": [],
      "source": [
        "params5 = {\n",
        "    'n_estimators' : 100,\n",
        "    'max_depth' : 3,\n",
        "    'min_samples_leaf' : 10,\n",
        "    'learning_rate' : 0.1,\n",
        "    'loss' : 'ls'\n",
        "}"
      ]
    },
    {
      "cell_type": "code",
      "execution_count": 15,
      "id": "df308add-9f3b-4d32-91e8-613096fed16c",
      "metadata": {
        "id": "df308add-9f3b-4d32-91e8-613096fed16c",
        "outputId": "c495bf7d-af07-4efa-8414-f9152ed04edf",
        "colab": {
          "base_uri": "https://localhost:8080/"
        }
      },
      "outputs": [
        {
          "output_type": "stream",
          "name": "stdout",
          "text": [
            "Errors of Regression model #5\n",
            "The mean squared error(MSE) on test set: 6.7913\n",
            "The initial error of API ETA on test set: 8.8452\n",
            "The mean absolute error (MAE) on test set: 2.0005\n",
            "The initial error of API ETA on test set: 2.0851\n"
          ]
        }
      ],
      "source": [
        "reg5 = ensemble.GradientBoostingRegressor(**params5)\n",
        "\n",
        "reg5.fit(x_tn, y_tn)\n",
        "\n",
        "print(\"Errors of Regression model #5\")\n",
        "mse = mean_squared_error(y_te, reg5.predict(x_te))\n",
        "print(\"The mean squared error(MSE) on test set: {:.4f}\".format(mse))\n",
        "print(\"The initial error of API ETA on test set: {:.4f}\".format(mean_squared_error(y_te, x_te[:,0]) ))\n",
        "\n",
        "mae = mean_absolute_error(y_te, reg5.predict(x_te))\n",
        "print(\"The mean absolute error (MAE) on test set: {:.4f}\".format(mae))\n",
        "print(\"The initial error of API ETA on test set: {:.4f}\".format(mean_absolute_error(y_te, x_te[:,0]) ))"
      ]
    },
    {
      "cell_type": "code",
      "execution_count": 16,
      "id": "c4c13be0-edea-4a14-8908-460d51c0d338",
      "metadata": {
        "id": "c4c13be0-edea-4a14-8908-460d51c0d338"
      },
      "outputs": [],
      "source": [
        "params6 = {\n",
        "    'n_estimators' : 150,\n",
        "    'max_depth' : 3,\n",
        "    'min_samples_leaf' : 10,\n",
        "    'learning_rate' : 0.1,\n",
        "    'loss' : 'ls'\n",
        "}"
      ]
    },
    {
      "cell_type": "code",
      "execution_count": 17,
      "id": "2a3bf150-9ddc-47d8-b88c-c31ff2ab8691",
      "metadata": {
        "id": "2a3bf150-9ddc-47d8-b88c-c31ff2ab8691",
        "outputId": "0e9ca90f-3d5f-4cc0-f293-583bf7221373",
        "colab": {
          "base_uri": "https://localhost:8080/"
        }
      },
      "outputs": [
        {
          "output_type": "stream",
          "name": "stdout",
          "text": [
            "Errors of Regression model #6\n",
            "The mean squared error(MSE) on test set: 6.7703\n",
            "The initial error of API ETA on test set: 8.8452\n",
            "The mean absolute error (MAE) on test set: 1.9958\n",
            "The initial error of API ETA on test set: 2.0851\n"
          ]
        }
      ],
      "source": [
        "reg6 = ensemble.GradientBoostingRegressor(**params6)\n",
        "\n",
        "reg6.fit(x_tn, y_tn)\n",
        "\n",
        "print(\"Errors of Regression model #6\")\n",
        "mse = mean_squared_error(y_te, reg6.predict(x_te))\n",
        "print(\"The mean squared error(MSE) on test set: {:.4f}\".format(mse))\n",
        "print(\"The initial error of API ETA on test set: {:.4f}\".format(mean_squared_error(y_te, x_te[:,0]) ))\n",
        "\n",
        "mae = mean_absolute_error(y_te, reg6.predict(x_te))\n",
        "print(\"The mean absolute error (MAE) on test set: {:.4f}\".format(mae))\n",
        "print(\"The initial error of API ETA on test set: {:.4f}\".format(mean_absolute_error(y_te, x_te[:,0]) ))"
      ]
    },
    {
      "cell_type": "code",
      "execution_count": 18,
      "id": "abf5f957-ef3a-48ee-a163-e7ce58c6e1e8",
      "metadata": {
        "id": "abf5f957-ef3a-48ee-a163-e7ce58c6e1e8"
      },
      "outputs": [],
      "source": [
        "params7 = {\n",
        "    'n_estimators' : 75,\n",
        "    'max_depth' : 3,\n",
        "    'min_samples_leaf' : 10,\n",
        "    'learning_rate' : 0.1,\n",
        "    'loss' : 'ls'\n",
        "}"
      ]
    },
    {
      "cell_type": "code",
      "execution_count": 19,
      "id": "68961906-809d-4b1d-b2b1-9645954ed45f",
      "metadata": {
        "id": "68961906-809d-4b1d-b2b1-9645954ed45f",
        "outputId": "0a164b6d-6a06-4f9a-c2ac-a3ff26132bfd",
        "colab": {
          "base_uri": "https://localhost:8080/"
        }
      },
      "outputs": [
        {
          "output_type": "stream",
          "name": "stdout",
          "text": [
            "Errors of Regression model #7\n",
            "The mean squared error(MSE) on test set: 6.8246\n",
            "The initial error of API ETA on test set: 8.8452\n",
            "The mean absolute error (MAE) on test set: 2.0094\n",
            "The initial error of API ETA on test set: 2.0851\n"
          ]
        }
      ],
      "source": [
        "reg7 = ensemble.GradientBoostingRegressor(**params7)\n",
        "\n",
        "reg7.fit(x_tn, y_tn)\n",
        "\n",
        "print(\"Errors of Regression model #7\")\n",
        "mse = mean_squared_error(y_te, reg7.predict(x_te))\n",
        "print(\"The mean squared error(MSE) on test set: {:.4f}\".format(mse))\n",
        "print(\"The initial error of API ETA on test set: {:.4f}\".format(mean_squared_error(y_te, x_te[:,0]) ))\n",
        "\n",
        "mae = mean_absolute_error(y_te, reg7.predict(x_te))\n",
        "print(\"The mean absolute error (MAE) on test set: {:.4f}\".format(mae))\n",
        "print(\"The initial error of API ETA on test set: {:.4f}\".format(mean_absolute_error(y_te, x_te[:,0]) ))"
      ]
    },
    {
      "cell_type": "code",
      "execution_count": 20,
      "id": "780fc210-5b52-43ca-8d3b-ccdc67eb30e9",
      "metadata": {
        "id": "780fc210-5b52-43ca-8d3b-ccdc67eb30e9"
      },
      "outputs": [],
      "source": [
        "import matplotlib.pyplot as plt\n",
        "%matplotlib inline"
      ]
    },
    {
      "cell_type": "code",
      "execution_count": 21,
      "id": "a4489c5f-4183-4a72-bcc0-bf8d48d42d2f",
      "metadata": {
        "id": "a4489c5f-4183-4a72-bcc0-bf8d48d42d2f",
        "outputId": "e637da42-c851-471e-b12e-e6d5d39d36cb",
        "colab": {
          "base_uri": "https://localhost:8080/",
          "height": 441
        }
      },
      "outputs": [
        {
          "output_type": "display_data",
          "data": {
            "text/plain": [
              "<Figure size 432x432 with 1 Axes>"
            ],
            "image/png": "[encoded data removed]"
          },
          "metadata": {
            "needs_background": "light"
          }
        }
      ],
      "source": [
        "test_score = np.zeros((params6['n_estimators'],), dtype = np.float64)\n",
        "for i, y_pred in enumerate(reg6.staged_predict(x_te)):\n",
        "    test_score[i] = reg6.loss_(y_te, y_pred)\n",
        "\n",
        "fig = plt.figure(figsize = (6,6))\n",
        "plt.subplot(1,1,1)\n",
        "plt.title('Deviance of ETA1 #6')\n",
        "plt.plot(np.arange(params6['n_estimators']) + 1, reg6.train_score_, 'b-', label = 'Training set')\n",
        "plt.plot(np.arange(params6['n_estimators']) + 1, test_score, 'r-', label = 'Test set')\n",
        "plt.legend(loc = 'upper right')\n",
        "plt.xlabel('Boosting Iterations')\n",
        "plt.ylabel('Deviance')\n",
        "\n",
        "fig.tight_layout()\n",
        "plt.show()"
      ]
    },
    {
      "cell_type": "markdown",
      "id": "3ab8eeb3-0bbf-46f9-8ba2-9c6a0d5b315e",
      "metadata": {
        "id": "3ab8eeb3-0bbf-46f9-8ba2-9c6a0d5b315e"
      },
      "source": [
        "#### One-hot encoding : too sparse"
      ]
    },
    {
      "cell_type": "code",
      "execution_count": 22,
      "id": "1f705e09-6d7b-4fbd-a983-989a2eefe488",
      "metadata": {
        "colab": {
          "base_uri": "https://localhost:8080/",
          "height": 206
        },
        "id": "1f705e09-6d7b-4fbd-a983-989a2eefe488",
        "outputId": "e4eede15-a28a-4259-9ffe-0d73a9d4efe6"
      },
      "outputs": [
        {
          "output_type": "execute_result",
          "data": {
            "text/plain": [
              "     ATA  api_eta  hour   distance\n",
              "0  10.60     5.65     0   5.240020\n",
              "1   9.20     8.60     0   4.446589\n",
              "2  10.85    10.53     0  14.973154\n",
              "3   5.52     1.92     0   0.100054\n",
              "4   8.60     7.10     0   3.501480"
            ],
            "text/html": [
              "\n",
              "  <div id=\"df-b1cbbc37-3c8b-4b1d-b424-20665af09e8c\">\n",
              "    <div class=\"colab-df-container\">\n",
              "      <div>\n",
              "<style scoped>\n",
              "    .dataframe tbody tr th:only-of-type {\n",
              "        vertical-align: middle;\n",
              "    }\n",
              "\n",
              "    .dataframe tbody tr th {\n",
              "        vertical-align: top;\n",
              "    }\n",
              "\n",
              "    .dataframe thead th {\n",
              "        text-align: right;\n",
              "    }\n",
              "</style>\n",
              "<table border=\"1\" class=\"dataframe\">\n",
              "  <thead>\n",
              "    <tr style=\"text-align: right;\">\n",
              "      <th></th>\n",
              "      <th>ATA</th>\n",
              "      <th>api_eta</th>\n",
              "      <th>hour</th>\n",
              "      <th>distance</th>\n",
              "    </tr>\n",
              "  </thead>\n",
              "  <tbody>\n",
              "    <tr>\n",
              "      <th>0</th>\n",
              "      <td>10.60</td>\n",
              "      <td>5.65</td>\n",
              "      <td>0</td>\n",
              "      <td>5.240020</td>\n",
              "    </tr>\n",
              "    <tr>\n",
              "      <th>1</th>\n",
              "      <td>9.20</td>\n",
              "      <td>8.60</td>\n",
              "      <td>0</td>\n",
              "      <td>4.446589</td>\n",
              "    </tr>\n",
              "    <tr>\n",
              "      <th>2</th>\n",
              "      <td>10.85</td>\n",
              "      <td>10.53</td>\n",
              "      <td>0</td>\n",
              "      <td>14.973154</td>\n",
              "    </tr>\n",
              "    <tr>\n",
              "      <th>3</th>\n",
              "      <td>5.52</td>\n",
              "      <td>1.92</td>\n",
              "      <td>0</td>\n",
              "      <td>0.100054</td>\n",
              "    </tr>\n",
              "    <tr>\n",
              "      <th>4</th>\n",
              "      <td>8.60</td>\n",
              "      <td>7.10</td>\n",
              "      <td>0</td>\n",
              "      <td>3.501480</td>\n",
              "    </tr>\n",
              "  </tbody>\n",
              "</table>\n",
              "</div>\n",
              "      <button class=\"colab-df-convert\" onclick=\"convertToInteractive('df-b1cbbc37-3c8b-4b1d-b424-20665af09e8c')\"\n",
              "              title=\"Convert this dataframe to an interactive table.\"\n",
              "              style=\"display:none;\">\n",
              "        \n",
              "  <svg xmlns=\"http://www.w3.org/2000/svg\" height=\"24px\"viewBox=\"0 0 24 24\"\n",
              "       width=\"24px\">\n",
              "    <path d=\"M0 0h24v24H0V0z\" fill=\"none\"/>\n",
              "    <path d=\"M18.56 5.44l.94 2.06.94-2.06 2.06-.94-2.06-.94-.94-2.06-.94 2.06-2.06.94zm-11 1L8.5 8.5l.94-2.06 2.06-.94-2.06-.94L8.5 2.5l-.94 2.06-2.06.94zm10 10l.94 2.06.94-2.06 2.06-.94-2.06-.94-.94-2.06-.94 2.06-2.06.94z\"/><path d=\"M17.41 7.96l-1.37-1.37c-.4-.4-.92-.59-1.43-.59-.52 0-1.04.2-1.43.59L10.3 9.45l-7.72 7.72c-.78.78-.78 2.05 0 2.83L4 21.41c.39.39.9.59 1.41.59.51 0 1.02-.2 1.41-.59l7.78-7.78 2.81-2.81c.8-.78.8-2.07 0-2.86zM5.41 20L4 18.59l7.72-7.72 1.47 1.35L5.41 20z\"/>\n",
              "  </svg>\n",
              "      </button>\n",
              "      \n",
              "  <style>\n",
              "    .colab-df-container {\n",
              "      display:flex;\n",
              "      flex-wrap:wrap;\n",
              "      gap: 12px;\n",
              "    }\n",
              "\n",
              "    .colab-df-convert {\n",
              "      background-color: #E8F0FE;\n",
              "      border: none;\n",
              "      border-radius: 50%;\n",
              "      cursor: pointer;\n",
              "      display: none;\n",
              "      fill: #1967D2;\n",
              "      height: 32px;\n",
              "      padding: 0 0 0 0;\n",
              "      width: 32px;\n",
              "    }\n",
              "\n",
              "    .colab-df-convert:hover {\n",
              "      background-color: #E2EBFA;\n",
              "      box-shadow: 0px 1px 2px rgba(60, 64, 67, 0.3), 0px 1px 3px 1px rgba(60, 64, 67, 0.15);\n",
              "      fill: #174EA6;\n",
              "    }\n",
              "\n",
              "    [theme=dark] .colab-df-convert {\n",
              "      background-color: #3B4455;\n",
              "      fill: #D2E3FC;\n",
              "    }\n",
              "\n",
              "    [theme=dark] .colab-df-convert:hover {\n",
              "      background-color: #434B5C;\n",
              "      box-shadow: 0px 1px 3px 1px rgba(0, 0, 0, 0.15);\n",
              "      filter: drop-shadow(0px 1px 2px rgba(0, 0, 0, 0.3));\n",
              "      fill: #FFFFFF;\n",
              "    }\n",
              "  </style>\n",
              "\n",
              "      <script>\n",
              "        const buttonEl =\n",
              "          document.querySelector('#df-b1cbbc37-3c8b-4b1d-b424-20665af09e8c button.colab-df-convert');\n",
              "        buttonEl.style.display =\n",
              "          google.colab.kernel.accessAllowed ? 'block' : 'none';\n",
              "\n",
              "        async function convertToInteractive(key) {\n",
              "          const element = document.querySelector('#df-b1cbbc37-3c8b-4b1d-b424-20665af09e8c');\n",
              "          const dataTable =\n",
              "            await google.colab.kernel.invokeFunction('convertToInteractive',\n",
              "                                                     [key], {});\n",
              "          if (!dataTable) return;\n",
              "\n",
              "          const docLinkHtml = 'Like what you see? Visit the ' +\n",
              "            '<a target=\"_blank\" href=https://colab.research.google.com/notebooks/data_table.ipynb>data table notebook</a>'\n",
              "            + ' to learn more about interactive tables.';\n",
              "          element.innerHTML = '';\n",
              "          dataTable['output_type'] = 'display_data';\n",
              "          await google.colab.output.renderOutput(dataTable, element);\n",
              "          const docLink = document.createElement('div');\n",
              "          docLink.innerHTML = docLinkHtml;\n",
              "          element.appendChild(docLink);\n",
              "        }\n",
              "      </script>\n",
              "    </div>\n",
              "  </div>\n",
              "  "
            ]
          },
          "metadata": {},
          "execution_count": 22
        }
      ],
      "source": [
        "eta2 = tada_eta.drop(['id', 'created_at_kst', 'month', 'pickup_lng', 'pickup_lat', 'pickup_gu', 'driver_id', 'driver_lng', 'driver_lat'], 1)\n",
        "eta2['distance'] = ((tada_eta['pickup_lat']-tada_eta['driver_lat'])**2 + (tada_eta['pickup_lng']-tada_eta['driver_lng'])**2)*10000\n",
        "eta2.head()"
      ]
    },
    {
      "cell_type": "code",
      "execution_count": 23,
      "id": "968ce1c1-59a7-4776-bc45-7c78ec35d64b",
      "metadata": {
        "colab": {
          "base_uri": "https://localhost:8080/"
        },
        "id": "968ce1c1-59a7-4776-bc45-7c78ec35d64b",
        "outputId": "ce3b43b7-13f6-493a-c37e-14012fff14fd"
      },
      "outputs": [
        {
          "output_type": "stream",
          "name": "stdout",
          "text": [
            "(13916, 4)\n",
            "(13916, 25)\n"
          ]
        }
      ],
      "source": [
        "pickup_gu = pd.get_dummies(tada_eta['pickup_gu'])\n",
        "\n",
        "print(eta2.shape)\n",
        "print(pickup_gu.shape)"
      ]
    },
    {
      "cell_type": "code",
      "execution_count": 24,
      "id": "b2dfac61-ffb9-4204-a7ae-a71f8e9be451",
      "metadata": {
        "colab": {
          "base_uri": "https://localhost:8080/",
          "height": 235
        },
        "id": "b2dfac61-ffb9-4204-a7ae-a71f8e9be451",
        "outputId": "0513ecfe-089d-4667-a03c-2eaf07650f30"
      },
      "outputs": [
        {
          "output_type": "execute_result",
          "data": {
            "text/plain": [
              "     ATA  api_eta  hour   distance  강남구  강동구  강북구  강서구  관악구  광진구  ...  성동구  \\\n",
              "0  10.60     5.65     0   5.240020    0    0    0    0    0    0  ...    0   \n",
              "1   9.20     8.60     0   4.446589    0    0    1    0    0    0  ...    0   \n",
              "2  10.85    10.53     0  14.973154    0    0    0    0    0    0  ...    0   \n",
              "3   5.52     1.92     0   0.100054    0    0    0    0    0    0  ...    0   \n",
              "4   8.60     7.10     0   3.501480    0    0    0    0    0    0  ...    0   \n",
              "\n",
              "   성북구  송파구  양천구  영등포구  용산구  은평구  종로구  중구  중랑구  \n",
              "0    0    0    0     0    0    0    0   0    0  \n",
              "1    0    0    0     0    0    0    0   0    0  \n",
              "2    0    0    0     0    0    0    0   0    0  \n",
              "3    0    0    0     0    0    0    0   1    0  \n",
              "4    0    0    0     0    0    0    0   1    0  \n",
              "\n",
              "[5 rows x 29 columns]"
            ],
            "text/html": [
              "\n",
              "  <div id=\"df-a2949d77-c7b6-475f-92f9-a604afd127e5\">\n",
              "    <div class=\"colab-df-container\">\n",
              "      <div>\n",
              "<style scoped>\n",
              "    .dataframe tbody tr th:only-of-type {\n",
              "        vertical-align: middle;\n",
              "    }\n",
              "\n",
              "    .dataframe tbody tr th {\n",
              "        vertical-align: top;\n",
              "    }\n",
              "\n",
              "    .dataframe thead th {\n",
              "        text-align: right;\n",
              "    }\n",
              "</style>\n",
              "<table border=\"1\" class=\"dataframe\">\n",
              "  <thead>\n",
              "    <tr style=\"text-align: right;\">\n",
              "      <th></th>\n",
              "      <th>ATA</th>\n",
              "      <th>api_eta</th>\n",
              "      <th>hour</th>\n",
              "      <th>distance</th>\n",
              "      <th>강남구</th>\n",
              "      <th>강동구</th>\n",
              "      <th>강북구</th>\n",
              "      <th>강서구</th>\n",
              "      <th>관악구</th>\n",
              "      <th>광진구</th>\n",
              "      <th>...</th>\n",
              "      <th>성동구</th>\n",
              "      <th>성북구</th>\n",
              "      <th>송파구</th>\n",
              "      <th>양천구</th>\n",
              "      <th>영등포구</th>\n",
              "      <th>용산구</th>\n",
              "      <th>은평구</th>\n",
              "      <th>종로구</th>\n",
              "      <th>중구</th>\n",
              "      <th>중랑구</th>\n",
              "    </tr>\n",
              "  </thead>\n",
              "  <tbody>\n",
              "    <tr>\n",
              "      <th>0</th>\n",
              "      <td>10.60</td>\n",
              "      <td>5.65</td>\n",
              "      <td>0</td>\n",
              "      <td>5.240020</td>\n",
              "      <td>0</td>\n",
              "      <td>0</td>\n",
              "      <td>0</td>\n",
              "      <td>0</td>\n",
              "      <td>0</td>\n",
              "      <td>0</td>\n",
              "      <td>...</td>\n",
              "      <td>0</td>\n",
              "      <td>0</td>\n",
              "      <td>0</td>\n",
              "      <td>0</td>\n",
              "      <td>0</td>\n",
              "      <td>0</td>\n",
              "      <td>0</td>\n",
              "      <td>0</td>\n",
              "      <td>0</td>\n",
              "      <td>0</td>\n",
              "    </tr>\n",
              "    <tr>\n",
              "      <th>1</th>\n",
              "      <td>9.20</td>\n",
              "      <td>8.60</td>\n",
              "      <td>0</td>\n",
              "      <td>4.446589</td>\n",
              "      <td>0</td>\n",
              "      <td>0</td>\n",
              "      <td>1</td>\n",
              "      <td>0</td>\n",
              "      <td>0</td>\n",
              "      <td>0</td>\n",
              "      <td>...</td>\n",
              "      <td>0</td>\n",
              "      <td>0</td>\n",
              "      <td>0</td>\n",
              "      <td>0</td>\n",
              "      <td>0</td>\n",
              "      <td>0</td>\n",
              "      <td>0</td>\n",
              "      <td>0</td>\n",
              "      <td>0</td>\n",
              "      <td>0</td>\n",
              "    </tr>\n",
              "    <tr>\n",
              "      <th>2</th>\n",
              "      <td>10.85</td>\n",
              "      <td>10.53</td>\n",
              "      <td>0</td>\n",
              "      <td>14.973154</td>\n",
              "      <td>0</td>\n",
              "      <td>0</td>\n",
              "      <td>0</td>\n",
              "      <td>0</td>\n",
              "      <td>0</td>\n",
              "      <td>0</td>\n",
              "      <td>...</td>\n",
              "      <td>0</td>\n",
              "      <td>0</td>\n",
              "      <td>0</td>\n",
              "      <td>0</td>\n",
              "      <td>0</td>\n",
              "      <td>0</td>\n",
              "      <td>0</td>\n",
              "      <td>0</td>\n",
              "      <td>0</td>\n",
              "      <td>0</td>\n",
              "    </tr>\n",
              "    <tr>\n",
              "      <th>3</th>\n",
              "      <td>5.52</td>\n",
              "      <td>1.92</td>\n",
              "      <td>0</td>\n",
              "      <td>0.100054</td>\n",
              "      <td>0</td>\n",
              "      <td>0</td>\n",
              "      <td>0</td>\n",
              "      <td>0</td>\n",
              "      <td>0</td>\n",
              "      <td>0</td>\n",
              "      <td>...</td>\n",
              "      <td>0</td>\n",
              "      <td>0</td>\n",
              "      <td>0</td>\n",
              "      <td>0</td>\n",
              "      <td>0</td>\n",
              "      <td>0</td>\n",
              "      <td>0</td>\n",
              "      <td>0</td>\n",
              "      <td>1</td>\n",
              "      <td>0</td>\n",
              "    </tr>\n",
              "    <tr>\n",
              "      <th>4</th>\n",
              "      <td>8.60</td>\n",
              "      <td>7.10</td>\n",
              "      <td>0</td>\n",
              "      <td>3.501480</td>\n",
              "      <td>0</td>\n",
              "      <td>0</td>\n",
              "      <td>0</td>\n",
              "      <td>0</td>\n",
              "      <td>0</td>\n",
              "      <td>0</td>\n",
              "      <td>...</td>\n",
              "      <td>0</td>\n",
              "      <td>0</td>\n",
              "      <td>0</td>\n",
              "      <td>0</td>\n",
              "      <td>0</td>\n",
              "      <td>0</td>\n",
              "      <td>0</td>\n",
              "      <td>0</td>\n",
              "      <td>1</td>\n",
              "      <td>0</td>\n",
              "    </tr>\n",
              "  </tbody>\n",
              "</table>\n",
              "<p>5 rows × 29 columns</p>\n",
              "</div>\n",
              "      <button class=\"colab-df-convert\" onclick=\"convertToInteractive('df-a2949d77-c7b6-475f-92f9-a604afd127e5')\"\n",
              "              title=\"Convert this dataframe to an interactive table.\"\n",
              "              style=\"display:none;\">\n",
              "        \n",
              "  <svg xmlns=\"http://www.w3.org/2000/svg\" height=\"24px\"viewBox=\"0 0 24 24\"\n",
              "       width=\"24px\">\n",
              "    <path d=\"M0 0h24v24H0V0z\" fill=\"none\"/>\n",
              "    <path d=\"M18.56 5.44l.94 2.06.94-2.06 2.06-.94-2.06-.94-.94-2.06-.94 2.06-2.06.94zm-11 1L8.5 8.5l.94-2.06 2.06-.94-2.06-.94L8.5 2.5l-.94 2.06-2.06.94zm10 10l.94 2.06.94-2.06 2.06-.94-2.06-.94-.94-2.06-.94 2.06-2.06.94z\"/><path d=\"M17.41 7.96l-1.37-1.37c-.4-.4-.92-.59-1.43-.59-.52 0-1.04.2-1.43.59L10.3 9.45l-7.72 7.72c-.78.78-.78 2.05 0 2.83L4 21.41c.39.39.9.59 1.41.59.51 0 1.02-.2 1.41-.59l7.78-7.78 2.81-2.81c.8-.78.8-2.07 0-2.86zM5.41 20L4 18.59l7.72-7.72 1.47 1.35L5.41 20z\"/>\n",
              "  </svg>\n",
              "      </button>\n",
              "      \n",
              "  <style>\n",
              "    .colab-df-container {\n",
              "      display:flex;\n",
              "      flex-wrap:wrap;\n",
              "      gap: 12px;\n",
              "    }\n",
              "\n",
              "    .colab-df-convert {\n",
              "      background-color: #E8F0FE;\n",
              "      border: none;\n",
              "      border-radius: 50%;\n",
              "      cursor: pointer;\n",
              "      display: none;\n",
              "      fill: #1967D2;\n",
              "      height: 32px;\n",
              "      padding: 0 0 0 0;\n",
              "      width: 32px;\n",
              "    }\n",
              "\n",
              "    .colab-df-convert:hover {\n",
              "      background-color: #E2EBFA;\n",
              "      box-shadow: 0px 1px 2px rgba(60, 64, 67, 0.3), 0px 1px 3px 1px rgba(60, 64, 67, 0.15);\n",
              "      fill: #174EA6;\n",
              "    }\n",
              "\n",
              "    [theme=dark] .colab-df-convert {\n",
              "      background-color: #3B4455;\n",
              "      fill: #D2E3FC;\n",
              "    }\n",
              "\n",
              "    [theme=dark] .colab-df-convert:hover {\n",
              "      background-color: #434B5C;\n",
              "      box-shadow: 0px 1px 3px 1px rgba(0, 0, 0, 0.15);\n",
              "      filter: drop-shadow(0px 1px 2px rgba(0, 0, 0, 0.3));\n",
              "      fill: #FFFFFF;\n",
              "    }\n",
              "  </style>\n",
              "\n",
              "      <script>\n",
              "        const buttonEl =\n",
              "          document.querySelector('#df-a2949d77-c7b6-475f-92f9-a604afd127e5 button.colab-df-convert');\n",
              "        buttonEl.style.display =\n",
              "          google.colab.kernel.accessAllowed ? 'block' : 'none';\n",
              "\n",
              "        async function convertToInteractive(key) {\n",
              "          const element = document.querySelector('#df-a2949d77-c7b6-475f-92f9-a604afd127e5');\n",
              "          const dataTable =\n",
              "            await google.colab.kernel.invokeFunction('convertToInteractive',\n",
              "                                                     [key], {});\n",
              "          if (!dataTable) return;\n",
              "\n",
              "          const docLinkHtml = 'Like what you see? Visit the ' +\n",
              "            '<a target=\"_blank\" href=https://colab.research.google.com/notebooks/data_table.ipynb>data table notebook</a>'\n",
              "            + ' to learn more about interactive tables.';\n",
              "          element.innerHTML = '';\n",
              "          dataTable['output_type'] = 'display_data';\n",
              "          await google.colab.output.renderOutput(dataTable, element);\n",
              "          const docLink = document.createElement('div');\n",
              "          docLink.innerHTML = docLinkHtml;\n",
              "          element.appendChild(docLink);\n",
              "        }\n",
              "      </script>\n",
              "    </div>\n",
              "  </div>\n",
              "  "
            ]
          },
          "metadata": {},
          "execution_count": 24
        }
      ],
      "source": [
        "eta2 = pd.concat([eta2, pickup_gu], axis = 1)\n",
        "eta2.head()"
      ]
    },
    {
      "cell_type": "code",
      "execution_count": 25,
      "id": "e9423bc7-bf3e-4032-b93a-33460cf1c24f",
      "metadata": {
        "id": "e9423bc7-bf3e-4032-b93a-33460cf1c24f"
      },
      "outputs": [],
      "source": [
        "import numpy as np\n",
        "train2 = eta2[:12000]\n",
        "test2 = eta2[12000:]\n",
        "x_tn2 = np.asarray(train2.drop('ATA', 1))\n",
        "x_te2 = np.asarray(test2.drop('ATA', 1))\n",
        "y_tn2 = np.asarray(train2['ATA'])\n",
        "y_te2 = np.asarray(test2['ATA'])\n",
        "eta_features2 = [x for i, x in enumerate(eta2.columns) if i != 0]"
      ]
    },
    {
      "cell_type": "code",
      "execution_count": 26,
      "id": "9efb5261-e875-4f7b-94a2-59c3402c5b73",
      "metadata": {
        "id": "9efb5261-e875-4f7b-94a2-59c3402c5b73"
      },
      "outputs": [],
      "source": [
        "from sklearn.metrics import mean_squared_error\n",
        "from sklearn.metrics import mean_absolute_error\n",
        "from sklearn import ensemble"
      ]
    },
    {
      "cell_type": "code",
      "execution_count": 27,
      "id": "723f53b7-54f1-40a1-b888-e985e2234269",
      "metadata": {
        "id": "723f53b7-54f1-40a1-b888-e985e2234269"
      },
      "outputs": [],
      "source": [
        "params1 = {\n",
        "    'n_estimators' : 100,\n",
        "    'max_depth' : 3,\n",
        "    'min_samples_leaf' : 5,\n",
        "    'learning_rate' : 0.05,\n",
        "    'loss' : 'ls'\n",
        "}"
      ]
    },
    {
      "cell_type": "code",
      "execution_count": 28,
      "id": "b0f181bc-1878-4bb8-8743-728145202689",
      "metadata": {
        "id": "b0f181bc-1878-4bb8-8743-728145202689",
        "colab": {
          "base_uri": "https://localhost:8080/"
        },
        "outputId": "dfa785d1-e7df-4376-bd90-388ed8610239"
      },
      "outputs": [
        {
          "output_type": "stream",
          "name": "stdout",
          "text": [
            "Errors of Regression model #1\n",
            "The mean squared error(MSE) on test set: 6.8609\n",
            "The initial error of API ETA on test set: 8.8452\n",
            "The mean absolute error (MAE) on test set: 2.0296\n",
            "The initial error of API ETA on test set: 2.0851\n"
          ]
        }
      ],
      "source": [
        "reg1 = ensemble.GradientBoostingRegressor(**params1)\n",
        "\n",
        "reg1.fit(x_tn2, y_tn2)\n",
        "\n",
        "print(\"Errors of Regression model #1\")\n",
        "mse = mean_squared_error(y_te2, reg1.predict(x_te2))\n",
        "print(\"The mean squared error(MSE) on test set: {:.4f}\".format(mse))\n",
        "print(\"The initial error of API ETA on test set: {:.4f}\".format(mean_squared_error(y_te2, x_te2[:,0]) ))\n",
        "\n",
        "mae = mean_absolute_error(y_te2, reg1.predict(x_te2))\n",
        "print(\"The mean absolute error (MAE) on test set: {:.4f}\".format(mae))\n",
        "print(\"The initial error of API ETA on test set: {:.4f}\".format(mean_absolute_error(y_te2, x_te2[:,0]) ))"
      ]
    },
    {
      "cell_type": "code",
      "execution_count": 29,
      "id": "fcb15a9b-f7a7-462f-a4fa-f712769d1e4a",
      "metadata": {
        "id": "fcb15a9b-f7a7-462f-a4fa-f712769d1e4a"
      },
      "outputs": [],
      "source": [
        "params5 = {\n",
        "    'n_estimators' : 100,\n",
        "    'max_depth' : 3,\n",
        "    'min_samples_leaf' : 10,\n",
        "    'learning_rate' : 0.1,\n",
        "    'loss' : 'ls'\n",
        "}"
      ]
    },
    {
      "cell_type": "code",
      "execution_count": 30,
      "id": "870db347-5963-469f-b2bc-d5c3ffdd006a",
      "metadata": {
        "id": "870db347-5963-469f-b2bc-d5c3ffdd006a",
        "colab": {
          "base_uri": "https://localhost:8080/"
        },
        "outputId": "b14fa45a-e1fa-4295-828b-a2e6254a600d"
      },
      "outputs": [
        {
          "output_type": "stream",
          "name": "stdout",
          "text": [
            "Errors of Regression model #5\n",
            "The mean squared error(MSE) on test set: 6.7401\n",
            "The initial error of API ETA on test set: 8.8452\n",
            "The mean absolute error (MAE) on test set: 1.9920\n",
            "The initial error of API ETA on test set: 2.0851\n"
          ]
        }
      ],
      "source": [
        "reg5 = ensemble.GradientBoostingRegressor(**params5)\n",
        "\n",
        "reg5.fit(x_tn2, y_tn2)\n",
        "\n",
        "print(\"Errors of Regression model #5\")\n",
        "mse = mean_squared_error(y_te2, reg5.predict(x_te2))\n",
        "print(\"The mean squared error(MSE) on test set: {:.4f}\".format(mse))\n",
        "print(\"The initial error of API ETA on test set: {:.4f}\".format(mean_squared_error(y_te2, x_te2[:,0]) ))\n",
        "\n",
        "mae = mean_absolute_error(y_te2, reg5.predict(x_te2))\n",
        "print(\"The mean absolute error (MAE) on test set: {:.4f}\".format(mae))\n",
        "print(\"The initial error of API ETA on test set: {:.4f}\".format(mean_absolute_error(y_te2, x_te2[:,0]) ))"
      ]
    },
    {
      "cell_type": "code",
      "execution_count": 31,
      "id": "394e9f4e-d844-449b-aa99-bbb375d46242",
      "metadata": {
        "id": "394e9f4e-d844-449b-aa99-bbb375d46242"
      },
      "outputs": [],
      "source": [
        "params6 = {\n",
        "    'n_estimators' : 150,\n",
        "    'max_depth' : 3,\n",
        "    'min_samples_leaf' : 10,\n",
        "    'learning_rate' : 0.1,\n",
        "    'loss' : 'ls'\n",
        "}"
      ]
    },
    {
      "cell_type": "code",
      "execution_count": 32,
      "id": "76227a7b-0d9a-4da3-8b0e-a37bbc01cfd1",
      "metadata": {
        "id": "76227a7b-0d9a-4da3-8b0e-a37bbc01cfd1",
        "colab": {
          "base_uri": "https://localhost:8080/"
        },
        "outputId": "c4440a64-8812-43ce-e01a-f0a533b24985"
      },
      "outputs": [
        {
          "output_type": "stream",
          "name": "stdout",
          "text": [
            "Errors of Regression model #6\n",
            "The mean squared error(MSE) on test set: 6.7430\n",
            "The initial error of API ETA on test set: 8.8452\n",
            "The mean absolute error (MAE) on test set: 1.9861\n",
            "The initial error of API ETA on test set: 2.0851\n"
          ]
        }
      ],
      "source": [
        "reg6 = ensemble.GradientBoostingRegressor(**params6)\n",
        "\n",
        "reg6.fit(x_tn2, y_tn2)\n",
        "\n",
        "print(\"Errors of Regression model #6\")\n",
        "mse = mean_squared_error(y_te2, reg6.predict(x_te2))\n",
        "print(\"The mean squared error(MSE) on test set: {:.4f}\".format(mse))\n",
        "print(\"The initial error of API ETA on test set: {:.4f}\".format(mean_squared_error(y_te2, x_te2[:,0]) ))\n",
        "\n",
        "mae = mean_absolute_error(y_te2, reg6.predict(x_te2))\n",
        "print(\"The mean absolute error (MAE) on test set: {:.4f}\".format(mae))\n",
        "print(\"The initial error of API ETA on test set: {:.4f}\".format(mean_absolute_error(y_te2, x_te2[:,0]) ))"
      ]
    },
    {
      "cell_type": "code",
      "execution_count": 33,
      "id": "9ccf6caf-4871-42e9-b49c-41cc21526b24",
      "metadata": {
        "id": "9ccf6caf-4871-42e9-b49c-41cc21526b24"
      },
      "outputs": [],
      "source": [
        "params7 = {\n",
        "    'n_estimators' : 75,\n",
        "    'max_depth' : 3,\n",
        "    'min_samples_leaf' : 10,\n",
        "    'learning_rate' : 0.1,\n",
        "    'loss' : 'ls'\n",
        "}"
      ]
    },
    {
      "cell_type": "code",
      "execution_count": 34,
      "id": "e66ffcdc-1879-4550-9f0b-f8c9cb09fea3",
      "metadata": {
        "id": "e66ffcdc-1879-4550-9f0b-f8c9cb09fea3",
        "colab": {
          "base_uri": "https://localhost:8080/"
        },
        "outputId": "e340e886-7338-4d85-9ebf-21825ae6e88a"
      },
      "outputs": [
        {
          "output_type": "stream",
          "name": "stdout",
          "text": [
            "Errors of Regression model #7\n",
            "The mean squared error(MSE) on test set: 6.7723\n",
            "The initial error of API ETA on test set: 8.8452\n",
            "The mean absolute error (MAE) on test set: 2.0026\n",
            "The initial error of API ETA on test set: 2.0851\n"
          ]
        }
      ],
      "source": [
        "reg7 = ensemble.GradientBoostingRegressor(**params7)\n",
        "\n",
        "reg7.fit(x_tn2, y_tn2)\n",
        "\n",
        "print(\"Errors of Regression model #7\")\n",
        "mse = mean_squared_error(y_te2, reg7.predict(x_te2))\n",
        "print(\"The mean squared error(MSE) on test set: {:.4f}\".format(mse))\n",
        "print(\"The initial error of API ETA on test set: {:.4f}\".format(mean_squared_error(y_te2, x_te2[:,0]) ))\n",
        "\n",
        "mae = mean_absolute_error(y_te2, reg7.predict(x_te2))\n",
        "print(\"The mean absolute error (MAE) on test set: {:.4f}\".format(mae))\n",
        "print(\"The initial error of API ETA on test set: {:.4f}\".format(mean_absolute_error(y_te2, x_te2[:,0]) ))"
      ]
    },
    {
      "cell_type": "code",
      "execution_count": 35,
      "id": "abdb501c-03ec-4b83-ad26-a4ecf1342db4",
      "metadata": {
        "id": "abdb501c-03ec-4b83-ad26-a4ecf1342db4",
        "colab": {
          "base_uri": "https://localhost:8080/",
          "height": 441
        },
        "outputId": "3b45b03f-4a41-4571-91bb-f38f2098aac3"
      },
      "outputs": [
        {
          "output_type": "display_data",
          "data": {
            "text/plain": [
              "<Figure size 432x432 with 1 Axes>"
            ],
            "image/png": "[encoded data removed]"
          },
          "metadata": {
            "needs_background": "light"
          }
        }
      ],
      "source": [
        "test_score2 = np.zeros((params6['n_estimators'],), dtype = np.float64)\n",
        "for j, y_pred2 in enumerate(reg6.staged_predict(x_te2)):\n",
        "    test_score2[j] = reg6.loss_(y_te2, y_pred2)\n",
        "\n",
        "fig = plt.figure(figsize = (6,6))\n",
        "plt.subplot(1,1,1)\n",
        "plt.title('Deviance of ETA2(encoded) #6')\n",
        "plt.plot(np.arange(params6['n_estimators']) + 1, reg6.train_score_, 'b-', label = 'Training set')\n",
        "plt.plot(np.arange(params6['n_estimators']) + 1, test_score2, 'r-', label = 'Test set')\n",
        "plt.legend(loc = 'upper right')\n",
        "plt.xlabel('Boosting Iterations')\n",
        "plt.ylabel('Deviance')\n",
        "\n",
        "fig.tight_layout()\n",
        "plt.show()"
      ]
    },
    {
      "cell_type": "code",
      "execution_count": null,
      "id": "b8a9ca0a-25d8-498c-8557-e34577843f87",
      "metadata": {
        "id": "b8a9ca0a-25d8-498c-8557-e34577843f87"
      },
      "outputs": [],
      "source": [
        ""
      ]
    }
  ],
  "metadata": {
    "kernelspec": {
      "display_name": "Python 3 (ipykernel)",
      "language": "python",
      "name": "python3"
    },
    "language_info": {
      "codemirror_mode": {
        "name": "ipython",
        "version": 3
      },
      "file_extension": ".py",
      "mimetype": "text/x-python",
      "name": "python",
      "nbconvert_exporter": "python",
      "pygments_lexer": "ipython3",
      "version": "3.9.7"
    },
    "colab": {
      "name": "Homework_2.ipynb",
      "provenance": []
    }
  },
  "nbformat": 4,
  "nbformat_minor": 5
}