{
  "nbformat": 4,
  "nbformat_minor": 0,
  "metadata": {
    "colab": {
      "name": "Homework_1.ipynb",
      "provenance": [],
      "collapsed_sections": []
    },
    "kernelspec": {
      "name": "python3",
      "display_name": "Python 3"
    },
    "language_info": {
      "name": "python"
    }
  },
  "cells": [
    {
      "cell_type": "markdown",
      "source": [
        "# Homework #1"
      ],
      "metadata": {
        "id": "pL1JWcT6bjrc"
      }
    },
    {
      "cell_type": "code",
      "execution_count": 1,
      "metadata": {
        "colab": {
          "base_uri": "https://localhost:8080/"
        },
        "id": "Tel1EueQO5io",
        "outputId": "bb8fc81f-9bbb-4a36-d45f-655065849ce4"
      },
      "outputs": [
        {
          "output_type": "stream",
          "name": "stdout",
          "text": [
            "Mounted at /content/drive\n"
          ]
        }
      ],
      "source": [
        "import numpy as np\n",
        "import matplotlib.pyplot as plt\n",
        "import torch \n",
        "import torch.nn as nn\n",
        "\n",
        "# Google drive mount\n",
        "from google.colab import drive\n",
        "drive.mount('/content/drive')\n",
        "# Read the file as list type\n",
        "file = open('/content/drive/MyDrive/Colab Notebooks/regression_data.txt','r')\n",
        "text = file.readlines()\n",
        "file.close()"
      ]
    },
    {
      "cell_type": "code",
      "source": [
        "print(text)"
      ],
      "metadata": {
        "colab": {
          "base_uri": "https://localhost:8080/"
        },
        "id": "pRBBEWQ7Poif",
        "outputId": "96d88d82-5f57-4044-f02d-18866b61eeb6"
      },
      "execution_count": 8,
      "outputs": [
        {
          "output_type": "stream",
          "name": "stdout",
          "text": [
            "['0.07344104893026171 0.30577654340464877\\n', '-0.6671361041630213 0.21484387904157468\\n', '0.6110255704162972 0.35501391366259544\\n', '-0.9845774527321076 0.20112862280820337\\n', '-0.8837433910334389 0.2082755715198671\\n', '-0.12854759010314276 0.3027415514693224\\n', '0.22099135724553243 0.3316209902246986\\n', '0.8534127709556332 0.38163625638979287\\n', '0.6242369517172701 0.3556166815262491\\n', '-0.9884481919394896 0.18689766580127848\\n', '-0.19720628238168114 0.26657175813563644\\n', '0.40892109591833226 0.3441350190637889\\n', '0.30833442465401917 0.33391826602343727\\n', '-0.7683662711499288 0.2484192484125181\\n', '0.5810093587501926 0.36320411308762074\\n', '-0.6130423180488918 0.22633849283964744\\n', '0.37080779728646673 0.3126308632491387\\n', '0.2689146356815888 0.33740516201145293\\n', '0.06920308546332121 0.3047139374541547\\n', '0.2582535575581715 0.3553355585400768\\n', '0.646076592630676 0.3695065507898268\\n', '0.06043786393526185 0.31084587768470995\\n', '-0.15156313196207938 0.2760793081065102\\n', '-0.930058893085125 0.21387698080707523\\n', '0.036524641335194064 0.30345621937957273\\n', '0.6304748305749586 0.3676698640539604\\n', '-0.07516740680855216 0.2941553031464959\\n', '-0.31744264827504054 0.27497961517334646\\n', '-0.530769649065824 0.25596054269450985\\n', '0.832539226011729 0.38363705013933963\\n', '-0.5377918900681617 0.24087606990797308\\n', '0.41861797886723906 0.34889992586169494\\n', '0.1623015779456236 0.3147683967398835\\n', '0.22209006549848076 0.32006745957964217\\n', '-0.5552588651204258 0.2587647658231737\\n', '0.4721245881055858 0.3463014535533262\\n', '0.7529675286636983 0.3840323818043389\\n', '0.7415627461497138 0.3732452555671697\\n', '0.8829149304286472 0.3804828578513638\\n', '0.8060363026316897 0.3821564893581173\\n', '0.07683324784802203 0.2835805437966362\\n', '-0.04241254210041734 0.29576905089163086\\n', '0.529685938257727 0.3395512139749959\\n', '0.0003760236074303869 0.3058898167419914\\n', '0.26242265067749715 0.31159207310504095\\n', '-0.3804550924918553 0.2655427548710176\\n', '0.9113962745189543 0.3928625661091734\\n', '0.1830214848198568 0.32933621351115755\\n', '0.6652377843088599 0.37993359383835845\\n', '0.2462102541127391 0.31216380570837565\\n', '-0.7655938018983295 0.21120322070459682\\n', '0.12891646349998864 0.32072340722783177\\n', '0.5975051754856993 0.358046175143507\\n', '0.6132702466298365 0.36853162758867714\\n', '-0.32857986166521114 0.29571146543597493\\n', '0.35673858245777246 0.35152327189372484\\n', '0.018313416895856305 0.2875541287948366\\n', '0.6374087769466188 0.3573532551994217\\n', '-0.5083941951560929 0.2447003301323157\\n', '-0.3798196676918688 0.25691939102461053\\n', '-0.7894805225544625 0.23140230758941666\\n', '-0.1207824273538356 0.29929625578730806\\n', '-0.9530285118985227 0.2075403750648572\\n', '-0.311370647581825 0.27641447459832724\\n', '-0.4912825554267988 0.259867778499509\\n', '0.8089974781758611 0.3744296044175936\\n', '-0.029339651848966808 0.30973104778627997\\n', '-0.3629689399567875 0.2713338385563311\\n', '-0.28085773893119925 0.2829996343601426\\n', '-0.3433383050664902 0.261235805827517\\n', '0.26819021337722804 0.31512381358502417\\n', '0.8379749185037964 0.3887617954552294\\n', '-0.9721217602104253 0.21795242356774774\\n', '0.380942166529068 0.339779869625644\\n', '-0.7028279008436107 0.2323194173868055\\n', '-0.2484023903325714 0.2823861947490793\\n', '-0.43535488718672366 0.24916216430359805\\n', '0.1930005450718788 0.3353753519312524\\n', '-0.12975251016629397 0.29723894398369094\\n', '0.9537897512414495 0.3968293471866555\\n', '-0.4674718628893888 0.2656561736924804\\n', '-0.7521595268287959 0.2278348103272739\\n', '-0.19006698759297302 0.27157786416830515\\n', '-0.19192104501312923 0.2914769099490614\\n', '0.19410225598679975 0.329892830646774\\n', '0.19166765679801756 0.3098383895290911\\n', '0.03917784229508059 0.30601206544169496\\n', '0.18153546167642953 0.33479577937825894\\n', '0.5739667972748239 0.34436754509312273\\n', '-0.16065727380382788 0.29868282753613895\\n', '0.8320151074446431 0.4081725110522518\\n', '0.006562278756251816 0.2927020475399281\\n', '-0.05950895933915401 0.3082183282688187\\n', '0.9833690684791196 0.40469345506706506\\n', '-0.23000484706137847 0.2710686912913266\\n', '0.8929405125595964 0.3897941565900382\\n', '0.37392170368698285 0.3176849445645886\\n', '0.6638252849338457 0.37162713059265773\\n', '0.0807277272988256 0.3253643285629878\\n', '0.18306645332943972 0.32224581911573247\\n']\n"
          ]
        }
      ]
    },
    {
      "cell_type": "markdown",
      "source": [
        "Raw/column separation"
      ],
      "metadata": {
        "id": "4Y3RJG3wbzD0"
      }
    },
    {
      "cell_type": "code",
      "source": [
        "X = []\n",
        "y = []\n",
        "\n",
        "for i, s in enumerate(text) :\n",
        "  if i % 10 == 0 :\n",
        "    data = s.split()\n",
        "    X.append(float(data[0]))\n",
        "    y.append(float(data[1]))"
      ],
      "metadata": {
        "id": "mwNL7F11O6PW"
      },
      "execution_count": 15,
      "outputs": []
    },
    {
      "cell_type": "code",
      "source": [
        "%matplotlib inline\n",
        "\n",
        "plt.figure(1)\n",
        "plt.plot(X, y, 'ro') # plot data\n",
        "\n",
        "plt.xlabel('x-axis')  \n",
        "plt.ylabel('y-axis')\n",
        "plt.title('My data')\n",
        "\n",
        "plt.show()"
      ],
      "metadata": {
        "colab": {
          "base_uri": "https://localhost:8080/",
          "height": 295
        },
        "id": "vPNNmzD2POVy",
        "outputId": "e1c0aa52-17c8-40df-95f5-284157e63191"
      },
      "execution_count": 16,
      "outputs": [
        {
          "output_type": "display_data",
          "data": {
            "text/plain": [
              "<Figure size 432x288 with 1 Axes>"
            ],
            "image/png": "[encoded data removed]"
          },
          "metadata": {
            "needs_background": "light"
          }
        }
      ]
    },
    {
      "cell_type": "markdown",
      "source": [
        "**Transform list to array**"
      ],
      "metadata": {
        "id": "wRmQRIQLb5xx"
      }
    },
    {
      "cell_type": "code",
      "source": [
        "X = np.asarray(X, dtype=np.float32)\n",
        "y = np.asarray(y, dtype=np.float32)\n",
        "print(X.shape, y.shape)"
      ],
      "metadata": {
        "colab": {
          "base_uri": "https://localhost:8080/"
        },
        "id": "zsVEATzpPQpA",
        "outputId": "ab6ff2b9-c51b-4315-ee80-bcf1bc0317b9"
      },
      "execution_count": 17,
      "outputs": [
        {
          "output_type": "stream",
          "name": "stdout",
          "text": [
            "(10,) (10,)\n"
          ]
        }
      ]
    },
    {
      "cell_type": "markdown",
      "source": [
        "**Expand the dimension of arrays : pytorch only accept +2 dimensional arrays**"
      ],
      "metadata": {
        "id": "cA_VzXyEbwxk"
      }
    },
    {
      "cell_type": "code",
      "source": [
        "if len(X.shape) == 1 and len(y.shape) == 1 :\n",
        "  X = np.expand_dims(X, axis = -1)\n",
        "  y = np.expand_dims(y, axis = -1)\n",
        "print(X.shape, y.shape)"
      ],
      "metadata": {
        "colab": {
          "base_uri": "https://localhost:8080/"
        },
        "id": "hY1yFxEDP5xi",
        "outputId": "57e813ea-1ff5-463a-f25a-22f8b3125a34"
      },
      "execution_count": 18,
      "outputs": [
        {
          "output_type": "stream",
          "name": "stdout",
          "text": [
            "(10, 1) (10, 1)\n"
          ]
        }
      ]
    },
    {
      "cell_type": "markdown",
      "source": [
        "**Define hyperparameters**"
      ],
      "metadata": {
        "id": "nwMOZimWbtkQ"
      }
    },
    {
      "cell_type": "code",
      "source": [
        "input_size = 1\n",
        "output_size = 1\n",
        "num_epochs = 100\n",
        "learning_rate = 0.1\n",
        "k = 5\n",
        "n_k = int(len(X)/k)\n",
        "val_loss = []"
      ],
      "metadata": {
        "id": "3bO47uCUP64r"
      },
      "execution_count": 19,
      "outputs": []
    },
    {
      "cell_type": "markdown",
      "source": [
        "**Linear Regression with Pytorch, slicing**"
      ],
      "metadata": {
        "id": "w0YgVJisTPZP"
      }
    },
    {
      "cell_type": "code",
      "source": [
        "for i in range(k) : \n",
        "  model = nn.Linear(input_size, output_size)\n",
        "  criterion = nn.MSELoss()\n",
        "  optimizer = torch.optim.SGD(model.parameters(), lr = learning_rate)\n",
        "\n",
        "  x_tr = np.concatenate((X[:i*n_k, :], X[(i+1)*n_k:, :]), axis = 0)\n",
        "  y_tr = np.concatenate((y[:i*n_k, :], y[(i+1)*n_k:, :]), axis = 0)\n",
        "\n",
        "  x_val = X[i*n_k:(i+1)*n_k, :]\n",
        "  y_val = y[i*n_k:(i+1)*n_k, :]\n",
        "\n",
        "  for epoch in range(num_epochs) :\n",
        "    inputs = torch.from_numpy(x_tr)\n",
        "    targets = torch.from_numpy(y_tr)\n",
        "\n",
        "    outputs = model(inputs)\n",
        "    loss = criterion(outputs, targets)\n",
        "\n",
        "    optimizer.zero_grad()\n",
        "    loss.backward()\n",
        "    optimizer.step()\n",
        "\n",
        "    if (epoch+1) % 20 == 0 :\n",
        "      print('Epoch: {}/{}, Loss: {:.4f}'.format(epoch+1, num_epochs, loss.item()))\n",
        "    \n",
        "  input = torch.from_numpy(x_val)\n",
        "  target = torch.from_numpy(y_val)\n",
        "  output = model(input)\n",
        "  loss = criterion(output, target)\n",
        "  print('{}th round validation error : {}'.format(i+1, loss.item()))\n",
        "  val_loss.append(loss.item())\n",
        "\n",
        "val_loss = np.asarray(val_loss)\n",
        "print('Final validation error: ', val_loss.mean())"
      ],
      "metadata": {
        "colab": {
          "base_uri": "https://localhost:8080/"
        },
        "id": "JYQxy0PdQzUL",
        "outputId": "7567ab37-6778-4ed7-f938-efc806b3279c"
      },
      "execution_count": 20,
      "outputs": [
        {
          "output_type": "stream",
          "name": "stdout",
          "text": [
            "Epoch: 20/100, Loss: 0.0007\n",
            "Epoch: 40/100, Loss: 0.0002\n",
            "Epoch: 60/100, Loss: 0.0002\n",
            "Epoch: 80/100, Loss: 0.0002\n",
            "Epoch: 100/100, Loss: 0.0002\n",
            "1th round validation error : 8.72535165399313e-05\n",
            "Epoch: 20/100, Loss: 0.0027\n",
            "Epoch: 40/100, Loss: 0.0005\n",
            "Epoch: 60/100, Loss: 0.0003\n",
            "Epoch: 80/100, Loss: 0.0002\n",
            "Epoch: 100/100, Loss: 0.0002\n",
            "2th round validation error : 1.3595382597486605e-06\n",
            "Epoch: 20/100, Loss: 0.0009\n",
            "Epoch: 40/100, Loss: 0.0002\n",
            "Epoch: 60/100, Loss: 0.0001\n",
            "Epoch: 80/100, Loss: 0.0001\n",
            "Epoch: 100/100, Loss: 0.0001\n",
            "3th round validation error : 0.00042888912139460444\n",
            "Epoch: 20/100, Loss: 0.0012\n",
            "Epoch: 40/100, Loss: 0.0003\n",
            "Epoch: 60/100, Loss: 0.0002\n",
            "Epoch: 80/100, Loss: 0.0002\n",
            "Epoch: 100/100, Loss: 0.0002\n",
            "4th round validation error : 0.0003372037608642131\n",
            "Epoch: 20/100, Loss: 0.0243\n",
            "Epoch: 40/100, Loss: 0.0039\n",
            "Epoch: 60/100, Loss: 0.0007\n",
            "Epoch: 80/100, Loss: 0.0002\n",
            "Epoch: 100/100, Loss: 0.0001\n",
            "5th round validation error : 0.0009927263017743826\n",
            "Final validation error:  0.000369486447766576\n"
          ]
        }
      ]
    }
  ]
}