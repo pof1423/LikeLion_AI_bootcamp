{
 "cells": [
  {
   "cell_type": "markdown",
   "id": "974de5e4-6c33-48eb-9d71-70802082b7be",
   "metadata": {
    "id": "974de5e4-6c33-48eb-9d71-70802082b7be"
   },
   "source": [
    "# Homework#2"
   ]
  },
  {
   "cell_type": "markdown",
   "id": "091413f9-aba8-44b6-8c61-f9f5d700b454",
   "metadata": {},
   "source": [
    "Regression tree with Tada ETA data : gradient boosting"
   ]
  },
  {
   "cell_type": "code",
   "execution_count": 1,
   "id": "fa174467-701d-4647-b95a-4282bd4c6c19",
   "metadata": {
    "colab": {
     "base_uri": "https://localhost:8080/"
    },
    "id": "fa174467-701d-4647-b95a-4282bd4c6c19",
    "outputId": "14dfda33-e993-4c3a-eb6f-c6254e5180c3"
   },
   "outputs": [
    {
     "name": "stdout",
     "output_type": "stream",
     "text": [
      "Mounted at /content/drive\n"
     ]
    }
   ],
   "source": [
    "import pandas as pd\n",
    "\n",
    "from google.colab import drive\n",
    "drive.mount('/content/drive')\n",
    "\n",
    "import warnings\n",
    "warnings.simplefilter(action='ignore', category=FutureWarning)"
   ]
  },
  {
   "cell_type": "code",
   "execution_count": 2,
   "id": "QwgEXSBUl9qX",
   "metadata": {
    "colab": {
     "base_uri": "https://localhost:8080/",
     "height": 206
    },
    "id": "QwgEXSBUl9qX",
    "outputId": "d1dc8dca-af75-4541-ff95-98caaeea1631"
   },
   "outputs": [
    {
     "data": {
      "text/html": [
       "\n",
       "  <div id=\"df-16911e40-25c2-45f3-b89b-8d4d6abc0b0c\">\n",
       "    <div class=\"colab-df-container\">\n",
       "      <div>\n",
       "<style scoped>\n",
       "    .dataframe tbody tr th:only-of-type {\n",
       "        vertical-align: middle;\n",
       "    }\n",
       "\n",
       "    .dataframe tbody tr th {\n",
       "        vertical-align: top;\n",
       "    }\n",
       "\n",
       "    .dataframe thead th {\n",
       "        text-align: right;\n",
       "    }\n",
       "</style>\n",
       "<table border=\"1\" class=\"dataframe\">\n",
       "  <thead>\n",
       "    <tr style=\"text-align: right;\">\n",
       "      <th></th>\n",
       "      <th>ATA</th>\n",
       "      <th>id</th>\n",
       "      <th>api_eta</th>\n",
       "      <th>created_at_kst</th>\n",
       "      <th>month</th>\n",
       "      <th>pickup_lng</th>\n",
       "      <th>pickup_lat</th>\n",
       "      <th>pickup_gu</th>\n",
       "      <th>driver_id</th>\n",
       "      <th>driver_lng</th>\n",
       "      <th>driver_lat</th>\n",
       "      <th>hour</th>\n",
       "    </tr>\n",
       "  </thead>\n",
       "  <tbody>\n",
       "    <tr>\n",
       "      <th>0</th>\n",
       "      <td>10.60</td>\n",
       "      <td>R4L9FL6NVEL4D0</td>\n",
       "      <td>5.65</td>\n",
       "      <td>2019-12-01T00:55:09</td>\n",
       "      <td>12</td>\n",
       "      <td>127.091399</td>\n",
       "      <td>37.624545</td>\n",
       "      <td>노원구</td>\n",
       "      <td>DST52944</td>\n",
       "      <td>127.069978</td>\n",
       "      <td>37.616472</td>\n",
       "      <td>0</td>\n",
       "    </tr>\n",
       "    <tr>\n",
       "      <th>1</th>\n",
       "      <td>9.20</td>\n",
       "      <td>R3A7JBY7CS6TPD</td>\n",
       "      <td>8.60</td>\n",
       "      <td>2019-12-01T00:09:39</td>\n",
       "      <td>12</td>\n",
       "      <td>127.023351</td>\n",
       "      <td>37.625564</td>\n",
       "      <td>강북구</td>\n",
       "      <td>DPC72995</td>\n",
       "      <td>127.026479</td>\n",
       "      <td>37.604711</td>\n",
       "      <td>0</td>\n",
       "    </tr>\n",
       "    <tr>\n",
       "      <th>2</th>\n",
       "      <td>10.85</td>\n",
       "      <td>R2BIUY1TDK14XE</td>\n",
       "      <td>10.53</td>\n",
       "      <td>2019-12-15T00:18:42</td>\n",
       "      <td>12</td>\n",
       "      <td>126.881154</td>\n",
       "      <td>37.481641</td>\n",
       "      <td>금천구</td>\n",
       "      <td>DPP94923</td>\n",
       "      <td>126.906225</td>\n",
       "      <td>37.452167</td>\n",
       "      <td>0</td>\n",
       "    </tr>\n",
       "    <tr>\n",
       "      <th>3</th>\n",
       "      <td>5.52</td>\n",
       "      <td>R31PU5GNHSGU6C</td>\n",
       "      <td>1.92</td>\n",
       "      <td>2019-07-31T00:24:11</td>\n",
       "      <td>7</td>\n",
       "      <td>126.988375</td>\n",
       "      <td>37.567897</td>\n",
       "      <td>중구</td>\n",
       "      <td>DCT73585</td>\n",
       "      <td>126.991170</td>\n",
       "      <td>37.566416</td>\n",
       "      <td>0</td>\n",
       "    </tr>\n",
       "    <tr>\n",
       "      <th>4</th>\n",
       "      <td>8.60</td>\n",
       "      <td>R41WR6N1VT42DJ</td>\n",
       "      <td>7.10</td>\n",
       "      <td>2019-07-05T00:40:34</td>\n",
       "      <td>7</td>\n",
       "      <td>126.988684</td>\n",
       "      <td>37.566716</td>\n",
       "      <td>중구</td>\n",
       "      <td>DPJ86237</td>\n",
       "      <td>127.006860</td>\n",
       "      <td>37.571164</td>\n",
       "      <td>0</td>\n",
       "    </tr>\n",
       "  </tbody>\n",
       "</table>\n",
       "</div>\n",
       "      <button class=\"colab-df-convert\" onclick=\"convertToInteractive('df-16911e40-25c2-45f3-b89b-8d4d6abc0b0c')\"\n",
       "              title=\"Convert this dataframe to an interactive table.\"\n",
       "              style=\"display:none;\">\n",
       "        \n",
       "  <svg xmlns=\"http://www.w3.org/2000/svg\" height=\"24px\"viewBox=\"0 0 24 24\"\n",
       "       width=\"24px\">\n",
       "    <path d=\"M0 0h24v24H0V0z\" fill=\"none\"/>\n",
       "    <path d=\"M18.56 5.44l.94 2.06.94-2.06 2.06-.94-2.06-.94-.94-2.06-.94 2.06-2.06.94zm-11 1L8.5 8.5l.94-2.06 2.06-.94-2.06-.94L8.5 2.5l-.94 2.06-2.06.94zm10 10l.94 2.06.94-2.06 2.06-.94-2.06-.94-.94-2.06-.94 2.06-2.06.94z\"/><path d=\"M17.41 7.96l-1.37-1.37c-.4-.4-.92-.59-1.43-.59-.52 0-1.04.2-1.43.59L10.3 9.45l-7.72 7.72c-.78.78-.78 2.05 0 2.83L4 21.41c.39.39.9.59 1.41.59.51 0 1.02-.2 1.41-.59l7.78-7.78 2.81-2.81c.8-.78.8-2.07 0-2.86zM5.41 20L4 18.59l7.72-7.72 1.47 1.35L5.41 20z\"/>\n",
       "  </svg>\n",
       "      </button>\n",
       "      \n",
       "  <style>\n",
       "    .colab-df-container {\n",
       "      display:flex;\n",
       "      flex-wrap:wrap;\n",
       "      gap: 12px;\n",
       "    }\n",
       "\n",
       "    .colab-df-convert {\n",
       "      background-color: #E8F0FE;\n",
       "      border: none;\n",
       "      border-radius: 50%;\n",
       "      cursor: pointer;\n",
       "      display: none;\n",
       "      fill: #1967D2;\n",
       "      height: 32px;\n",
       "      padding: 0 0 0 0;\n",
       "      width: 32px;\n",
       "    }\n",
       "\n",
       "    .colab-df-convert:hover {\n",
       "      background-color: #E2EBFA;\n",
       "      box-shadow: 0px 1px 2px rgba(60, 64, 67, 0.3), 0px 1px 3px 1px rgba(60, 64, 67, 0.15);\n",
       "      fill: #174EA6;\n",
       "    }\n",
       "\n",
       "    [theme=dark] .colab-df-convert {\n",
       "      background-color: #3B4455;\n",
       "      fill: #D2E3FC;\n",
       "    }\n",
       "\n",
       "    [theme=dark] .colab-df-convert:hover {\n",
       "      background-color: #434B5C;\n",
       "      box-shadow: 0px 1px 3px 1px rgba(0, 0, 0, 0.15);\n",
       "      filter: drop-shadow(0px 1px 2px rgba(0, 0, 0, 0.3));\n",
       "      fill: #FFFFFF;\n",
       "    }\n",
       "  </style>\n",
       "\n",
       "      <script>\n",
       "        const buttonEl =\n",
       "          document.querySelector('#df-16911e40-25c2-45f3-b89b-8d4d6abc0b0c button.colab-df-convert');\n",
       "        buttonEl.style.display =\n",
       "          google.colab.kernel.accessAllowed ? 'block' : 'none';\n",
       "\n",
       "        async function convertToInteractive(key) {\n",
       "          const element = document.querySelector('#df-16911e40-25c2-45f3-b89b-8d4d6abc0b0c');\n",
       "          const dataTable =\n",
       "            await google.colab.kernel.invokeFunction('convertToInteractive',\n",
       "                                                     [key], {});\n",
       "          if (!dataTable) return;\n",
       "\n",
       "          const docLinkHtml = 'Like what you see? Visit the ' +\n",
       "            '<a target=\"_blank\" href=https://colab.research.google.com/notebooks/data_table.ipynb>data table notebook</a>'\n",
       "            + ' to learn more about interactive tables.';\n",
       "          element.innerHTML = '';\n",
       "          dataTable['output_type'] = 'display_data';\n",
       "          await google.colab.output.renderOutput(dataTable, element);\n",
       "          const docLink = document.createElement('div');\n",
       "          docLink.innerHTML = docLinkHtml;\n",
       "          element.appendChild(docLink);\n",
       "        }\n",
       "      </script>\n",
       "    </div>\n",
       "  </div>\n",
       "  "
      ],
      "text/plain": [
       "     ATA              id  api_eta       created_at_kst  month  pickup_lng  \\\n",
       "0  10.60  R4L9FL6NVEL4D0     5.65  2019-12-01T00:55:09     12  127.091399   \n",
       "1   9.20  R3A7JBY7CS6TPD     8.60  2019-12-01T00:09:39     12  127.023351   \n",
       "2  10.85  R2BIUY1TDK14XE    10.53  2019-12-15T00:18:42     12  126.881154   \n",
       "3   5.52  R31PU5GNHSGU6C     1.92  2019-07-31T00:24:11      7  126.988375   \n",
       "4   8.60  R41WR6N1VT42DJ     7.10  2019-07-05T00:40:34      7  126.988684   \n",
       "\n",
       "   pickup_lat pickup_gu driver_id  driver_lng  driver_lat  hour  \n",
       "0   37.624545       노원구  DST52944  127.069978   37.616472     0  \n",
       "1   37.625564       강북구  DPC72995  127.026479   37.604711     0  \n",
       "2   37.481641       금천구  DPP94923  126.906225   37.452167     0  \n",
       "3   37.567897        중구  DCT73585  126.991170   37.566416     0  \n",
       "4   37.566716        중구  DPJ86237  127.006860   37.571164     0  "
      ]
     },
     "execution_count": 2,
     "metadata": {},
     "output_type": "execute_result"
    }
   ],
   "source": [
    "tada_eta = pd.read_excel('/content/drive/MyDrive/Colab Notebooks/tada_eta.xlsx')\n",
    "tada_eta.head()"
   ]
  },
  {
   "cell_type": "code",
   "execution_count": 2,
   "id": "90151c70-1381-4050-921e-3a6d4f406b7a",
   "metadata": {
    "colab": {
     "base_uri": "https://localhost:8080/",
     "height": 206
    },
    "id": "90151c70-1381-4050-921e-3a6d4f406b7a",
    "outputId": "98d2c9f6-246c-4ea4-b9c7-05ecad9cb080"
   },
   "outputs": [
    {
     "data": {
      "text/html": [
       "<div>\n",
       "<style scoped>\n",
       "    .dataframe tbody tr th:only-of-type {\n",
       "        vertical-align: middle;\n",
       "    }\n",
       "\n",
       "    .dataframe tbody tr th {\n",
       "        vertical-align: top;\n",
       "    }\n",
       "\n",
       "    .dataframe thead th {\n",
       "        text-align: right;\n",
       "    }\n",
       "</style>\n",
       "<table border=\"1\" class=\"dataframe\">\n",
       "  <thead>\n",
       "    <tr style=\"text-align: right;\">\n",
       "      <th></th>\n",
       "      <th>ATA</th>\n",
       "      <th>api_eta</th>\n",
       "      <th>hour</th>\n",
       "      <th>distance</th>\n",
       "    </tr>\n",
       "  </thead>\n",
       "  <tbody>\n",
       "    <tr>\n",
       "      <th>0</th>\n",
       "      <td>10.60</td>\n",
       "      <td>5.65</td>\n",
       "      <td>0</td>\n",
       "      <td>5.240020</td>\n",
       "    </tr>\n",
       "    <tr>\n",
       "      <th>1</th>\n",
       "      <td>9.20</td>\n",
       "      <td>8.60</td>\n",
       "      <td>0</td>\n",
       "      <td>4.446589</td>\n",
       "    </tr>\n",
       "    <tr>\n",
       "      <th>2</th>\n",
       "      <td>10.85</td>\n",
       "      <td>10.53</td>\n",
       "      <td>0</td>\n",
       "      <td>14.973154</td>\n",
       "    </tr>\n",
       "    <tr>\n",
       "      <th>3</th>\n",
       "      <td>5.52</td>\n",
       "      <td>1.92</td>\n",
       "      <td>0</td>\n",
       "      <td>0.100054</td>\n",
       "    </tr>\n",
       "    <tr>\n",
       "      <th>4</th>\n",
       "      <td>8.60</td>\n",
       "      <td>7.10</td>\n",
       "      <td>0</td>\n",
       "      <td>3.501480</td>\n",
       "    </tr>\n",
       "  </tbody>\n",
       "</table>\n",
       "</div>"
      ],
      "text/plain": [
       "     ATA  api_eta  hour   distance\n",
       "0  10.60     5.65     0   5.240020\n",
       "1   9.20     8.60     0   4.446589\n",
       "2  10.85    10.53     0  14.973154\n",
       "3   5.52     1.92     0   0.100054\n",
       "4   8.60     7.10     0   3.501480"
      ]
     },
     "execution_count": 2,
     "metadata": {},
     "output_type": "execute_result"
    }
   ],
   "source": [
    "# 불필요한 feature 제거 및 distance feature 추가\n",
    "eta1 = tada_eta.drop(['id', 'created_at_kst', 'month', 'pickup_lng', 'pickup_lat', 'pickup_gu', 'driver_id', 'driver_lng', 'driver_lat'], 1)\n",
    "eta1['distance'] = ((tada_eta['pickup_lat']-tada_eta['driver_lat'])**2 + (tada_eta['pickup_lng']-tada_eta['driver_lng'])**2)*10000\n",
    "eta1.head()"
   ]
  },
  {
   "cell_type": "code",
   "execution_count": 3,
   "id": "a2d21512-7999-4fa6-9004-c23bdde424cf",
   "metadata": {
    "id": "a2d21512-7999-4fa6-9004-c23bdde424cf"
   },
   "outputs": [],
   "source": [
    "import numpy as np\n",
    "train = eta1[:12000]\n",
    "test = eta1[12000:]\n",
    "x_tn = np.asarray(train.drop('ATA', 1))\n",
    "x_te = np.asarray(test.drop('ATA', 1))\n",
    "y_tn = np.asarray(train['ATA'])\n",
    "y_te = np.asarray(test['ATA'])\n",
    "eta_features = [x for i, x in enumerate(eta1.columns) if i != 0]"
   ]
  },
  {
   "cell_type": "code",
   "execution_count": 4,
   "id": "ed6e1dcf-986d-40b5-a44e-1ebb8f927e70",
   "metadata": {
    "id": "ed6e1dcf-986d-40b5-a44e-1ebb8f927e70"
   },
   "outputs": [],
   "source": [
    "from sklearn.metrics import mean_squared_error\n",
    "from sklearn.metrics import mean_absolute_error\n",
    "from sklearn import ensemble"
   ]
  },
  {
   "cell_type": "code",
   "execution_count": 9,
   "id": "2265d1dc-617c-443b-836b-f3a18da90204",
   "metadata": {},
   "outputs": [],
   "source": [
    "params = {\n",
    "    'n_estimators' : [50, 100, 150],\n",
    "    'max_depth' : [2, 3, 4],\n",
    "    'min_samples_leaf' : [5, 10],\n",
    "    'learning_rate' : [0.05, 0.1],\n",
    "    'loss' : ['ls',]\n",
    "}\n",
    "\n",
    "reg = ensemble.GradientBoostingRegressor()"
   ]
  },
  {
   "cell_type": "code",
   "execution_count": 7,
   "id": "26e238cd-8d24-47b6-b939-3933de4191bb",
   "metadata": {},
   "outputs": [],
   "source": [
    "from sklearn.model_selection import GridSearchCV\n",
    "\n",
    "grid_reg = GridSearchCV(reg, param_grid = params, cv = 5, refit = True)"
   ]
  },
  {
   "cell_type": "code",
   "execution_count": 14,
   "id": "89ed2778-975d-4af0-b151-b27d1fc719e3",
   "metadata": {},
   "outputs": [
    {
     "data": {
      "text/plain": [
       "GridSearchCV(cv=5,\n",
       "             estimator=GradientBoostingRegressor(learning_rate=[0.05, 0.1],\n",
       "                                                 max_depth=[2, 3, 4],\n",
       "                                                 min_samples_leaf=[5, 10],\n",
       "                                                 n_estimators=[50, 100, 150]),\n",
       "             param_grid={'learning_rate': [0.05, 0.1], 'loss': ['ls'],\n",
       "                         'max_depth': [2, 3, 4], 'min_samples_leaf': [5, 10],\n",
       "                         'n_estimators': [50, 100, 150]})"
      ]
     },
     "execution_count": 14,
     "metadata": {},
     "output_type": "execute_result"
    }
   ],
   "source": [
    "grid_reg.fit(x_tn, y_tn)"
   ]
  },
  {
   "cell_type": "code",
   "execution_count": 40,
   "id": "71161d4b-0814-44ee-9740-3d5e370139fb",
   "metadata": {},
   "outputs": [
    {
     "name": "stdout",
     "output_type": "stream",
     "text": [
      "{'learning_rate': 0.1, 'loss': 'ls', 'max_depth': 2, 'min_samples_leaf': 10, 'n_estimators': 50}\n"
     ]
    }
   ],
   "source": [
    "scores = pd.DataFrame(grid_reg.cv_results_)\n",
    "for i in range(len(scores)) :\n",
    "    if (scores.loc[i, 'rank_test_score']) == 1 :\n",
    "        params_fit = scores.loc[i, 'params']\n",
    "        print(params_fit)"
   ]
  },
  {
   "cell_type": "code",
   "execution_count": 41,
   "id": "375e5bcc-1b41-4648-8d27-a69aa051dd9e",
   "metadata": {},
   "outputs": [
    {
     "data": {
      "text/plain": [
       "{'learning_rate': 0.1,\n",
       " 'loss': 'ls',\n",
       " 'max_depth': 2,\n",
       " 'min_samples_leaf': 10,\n",
       " 'n_estimators': 50}"
      ]
     },
     "execution_count": 41,
     "metadata": {},
     "output_type": "execute_result"
    }
   ],
   "source": [
    "params_fit"
   ]
  },
  {
   "cell_type": "code",
   "execution_count": 42,
   "id": "9a270b7f-fc35-43b6-a90a-a89d7a8a7d51",
   "metadata": {},
   "outputs": [],
   "source": [
    "import matplotlib.pyplot as plt\n",
    "%matplotlib inline"
   ]
  },
  {
   "cell_type": "code",
   "execution_count": 46,
   "id": "21ce682e-e583-4826-a7b9-6f5686cc9b00",
   "metadata": {},
   "outputs": [
    {
     "data": {
      "text/plain": [
       "GradientBoostingRegressor(max_depth=2, min_samples_leaf=10, n_estimators=50)"
      ]
     },
     "execution_count": 46,
     "metadata": {},
     "output_type": "execute_result"
    }
   ],
   "source": [
    "reg_fit = ensemble.GradientBoostingRegressor(**params_fit)\n",
    "reg_fit.fit(x_tn, y_tn)"
   ]
  },
  {
   "cell_type": "code",
   "execution_count": 62,
   "id": "e13cca3b-2a57-4705-bd72-a3dddcdcac16",
   "metadata": {},
   "outputs": [
    {
     "name": "stdout",
     "output_type": "stream",
     "text": [
      "Errors of Regression model\n",
      "The mean squared error(MSE) on test set: 6.9718\n",
      "The initial error of API ETA on test set: 8.8452\n",
      "The mean absolute error (MAE) on test set: 2.0593\n",
      "The initial error of API ETA on test set: 2.0851\n"
     ]
    }
   ],
   "source": [
    "print(\"Errors of Regression model\")\n",
    "mse = mean_squared_error(y_te, reg_fit.predict(x_te))\n",
    "print(\"The mean squared error(MSE) on test set: {:.4f}\".format(mse))\n",
    "print(\"The initial error of API ETA on test set: {:.4f}\".format(mean_squared_error(y_te, x_te[:,0]) ))\n",
    "\n",
    "mae = mean_absolute_error(y_te, reg_fit.predict(x_te))\n",
    "print(\"The mean absolute error (MAE) on test set: {:.4f}\".format(mae))\n",
    "print(\"The initial error of API ETA on test set: {:.4f}\".format(mean_absolute_error(y_te, x_te[:,0]) ))"
   ]
  },
  {
   "cell_type": "code",
   "execution_count": 47,
   "id": "22829be3-bf10-4f92-a1b9-063245ae7765",
   "metadata": {},
   "outputs": [
    {
     "data": {
      "image/png": "[encoded data removed]",
      "text/plain": [
       "<Figure size 432x432 with 1 Axes>"
      ]
     },
     "metadata": {
      "needs_background": "light"
     },
     "output_type": "display_data"
    }
   ],
   "source": [
    "test_score = np.zeros((params_fit['n_estimators'],), dtype = np.float64)\n",
    "for i, y_pred in enumerate(reg_fit.staged_predict(x_te)):\n",
    "    test_score[i] = reg_fit.loss_(y_te, y_pred)\n",
    "\n",
    "fig = plt.figure(figsize = (6,6))\n",
    "plt.subplot(1,1,1)\n",
    "plt.title('Deviance')\n",
    "plt.plot(np.arange(params_fit['n_estimators']) + 1, reg_fit.train_score_, 'b-', label = 'Training set')\n",
    "plt.plot(np.arange(params_fit['n_estimators']) + 1, test_score, 'r-', label = 'Test set')\n",
    "plt.legend(loc = 'upper right')\n",
    "plt.xlabel('Boosting Iterations')\n",
    "plt.ylabel('Deviance')\n",
    "\n",
    "fig.tight_layout()\n",
    "plt.show()"
   ]
  },
  {
   "cell_type": "markdown",
   "id": "3ab8eeb3-0bbf-46f9-8ba2-9c6a0d5b315e",
   "metadata": {
    "id": "3ab8eeb3-0bbf-46f9-8ba2-9c6a0d5b315e"
   },
   "source": [
    "#### One-hot encoding"
   ]
  },
  {
   "cell_type": "code",
   "execution_count": null,
   "id": "1f705e09-6d7b-4fbd-a983-989a2eefe488",
   "metadata": {
    "colab": {
     "base_uri": "https://localhost:8080/",
     "height": 206
    },
    "id": "1f705e09-6d7b-4fbd-a983-989a2eefe488",
    "outputId": "e4eede15-a28a-4259-9ffe-0d73a9d4efe6"
   },
   "outputs": [
    {
     "data": {
      "text/html": [
       "<div>\n",
       "<style scoped>\n",
       "    .dataframe tbody tr th:only-of-type {\n",
       "        vertical-align: middle;\n",
       "    }\n",
       "\n",
       "    .dataframe tbody tr th {\n",
       "        vertical-align: top;\n",
       "    }\n",
       "\n",
       "    .dataframe thead th {\n",
       "        text-align: right;\n",
       "    }\n",
       "</style>\n",
       "<table border=\"1\" class=\"dataframe\">\n",
       "  <thead>\n",
       "    <tr style=\"text-align: right;\">\n",
       "      <th></th>\n",
       "      <th>ATA</th>\n",
       "      <th>api_eta</th>\n",
       "      <th>hour</th>\n",
       "      <th>distance</th>\n",
       "    </tr>\n",
       "  </thead>\n",
       "  <tbody>\n",
       "    <tr>\n",
       "      <th>0</th>\n",
       "      <td>10.60</td>\n",
       "      <td>5.65</td>\n",
       "      <td>0</td>\n",
       "      <td>5.240020</td>\n",
       "    </tr>\n",
       "    <tr>\n",
       "      <th>1</th>\n",
       "      <td>9.20</td>\n",
       "      <td>8.60</td>\n",
       "      <td>0</td>\n",
       "      <td>4.446589</td>\n",
       "    </tr>\n",
       "    <tr>\n",
       "      <th>2</th>\n",
       "      <td>10.85</td>\n",
       "      <td>10.53</td>\n",
       "      <td>0</td>\n",
       "      <td>14.973154</td>\n",
       "    </tr>\n",
       "    <tr>\n",
       "      <th>3</th>\n",
       "      <td>5.52</td>\n",
       "      <td>1.92</td>\n",
       "      <td>0</td>\n",
       "      <td>0.100054</td>\n",
       "    </tr>\n",
       "    <tr>\n",
       "      <th>4</th>\n",
       "      <td>8.60</td>\n",
       "      <td>7.10</td>\n",
       "      <td>0</td>\n",
       "      <td>3.501480</td>\n",
       "    </tr>\n",
       "  </tbody>\n",
       "</table>\n",
       "</div>"
      ],
      "text/plain": [
       "     ATA  api_eta  hour   distance\n",
       "0  10.60     5.65     0   5.240020\n",
       "1   9.20     8.60     0   4.446589\n",
       "2  10.85    10.53     0  14.973154\n",
       "3   5.52     1.92     0   0.100054\n",
       "4   8.60     7.10     0   3.501480"
      ]
     },
     "execution_count": 49,
     "metadata": {},
     "output_type": "execute_result"
    }
   ],
   "source": [
    "eta2 = tada_eta.drop(['id', 'created_at_kst', 'month', 'pickup_lng', 'pickup_lat', 'pickup_gu', 'driver_id', 'driver_lng', 'driver_lat'], 1)\n",
    "eta2['distance'] = ((tada_eta['pickup_lat']-tada_eta['driver_lat'])**2 + (tada_eta['pickup_lng']-tada_eta['driver_lng'])**2)*10000\n",
    "eta2.head()"
   ]
  },
  {
   "cell_type": "code",
   "execution_count": null,
   "id": "968ce1c1-59a7-4776-bc45-7c78ec35d64b",
   "metadata": {
    "colab": {
     "base_uri": "https://localhost:8080/"
    },
    "id": "968ce1c1-59a7-4776-bc45-7c78ec35d64b",
    "outputId": "ce3b43b7-13f6-493a-c37e-14012fff14fd"
   },
   "outputs": [
    {
     "name": "stdout",
     "output_type": "stream",
     "text": [
      "(13916, 4)\n",
      "(13916, 25)\n"
     ]
    }
   ],
   "source": [
    "pickup_gu = pd.get_dummies(tada_eta['pickup_gu'])\n",
    "\n",
    "print(eta2.shape)\n",
    "print(pickup_gu.shape)"
   ]
  },
  {
   "cell_type": "code",
   "execution_count": null,
   "id": "b2dfac61-ffb9-4204-a7ae-a71f8e9be451",
   "metadata": {
    "colab": {
     "base_uri": "https://localhost:8080/",
     "height": 235
    },
    "id": "b2dfac61-ffb9-4204-a7ae-a71f8e9be451",
    "outputId": "0513ecfe-089d-4667-a03c-2eaf07650f30"
   },
   "outputs": [
    {
     "data": {
      "text/html": [
       "<div>\n",
       "<style scoped>\n",
       "    .dataframe tbody tr th:only-of-type {\n",
       "        vertical-align: middle;\n",
       "    }\n",
       "\n",
       "    .dataframe tbody tr th {\n",
       "        vertical-align: top;\n",
       "    }\n",
       "\n",
       "    .dataframe thead th {\n",
       "        text-align: right;\n",
       "    }\n",
       "</style>\n",
       "<table border=\"1\" class=\"dataframe\">\n",
       "  <thead>\n",
       "    <tr style=\"text-align: right;\">\n",
       "      <th></th>\n",
       "      <th>ATA</th>\n",
       "      <th>api_eta</th>\n",
       "      <th>hour</th>\n",
       "      <th>distance</th>\n",
       "      <th>강남구</th>\n",
       "      <th>강동구</th>\n",
       "      <th>강북구</th>\n",
       "      <th>강서구</th>\n",
       "      <th>관악구</th>\n",
       "      <th>광진구</th>\n",
       "      <th>...</th>\n",
       "      <th>성동구</th>\n",
       "      <th>성북구</th>\n",
       "      <th>송파구</th>\n",
       "      <th>양천구</th>\n",
       "      <th>영등포구</th>\n",
       "      <th>용산구</th>\n",
       "      <th>은평구</th>\n",
       "      <th>종로구</th>\n",
       "      <th>중구</th>\n",
       "      <th>중랑구</th>\n",
       "    </tr>\n",
       "  </thead>\n",
       "  <tbody>\n",
       "    <tr>\n",
       "      <th>0</th>\n",
       "      <td>10.60</td>\n",
       "      <td>5.65</td>\n",
       "      <td>0</td>\n",
       "      <td>5.240020</td>\n",
       "      <td>0</td>\n",
       "      <td>0</td>\n",
       "      <td>0</td>\n",
       "      <td>0</td>\n",
       "      <td>0</td>\n",
       "      <td>0</td>\n",
       "      <td>...</td>\n",
       "      <td>0</td>\n",
       "      <td>0</td>\n",
       "      <td>0</td>\n",
       "      <td>0</td>\n",
       "      <td>0</td>\n",
       "      <td>0</td>\n",
       "      <td>0</td>\n",
       "      <td>0</td>\n",
       "      <td>0</td>\n",
       "      <td>0</td>\n",
       "    </tr>\n",
       "    <tr>\n",
       "      <th>1</th>\n",
       "      <td>9.20</td>\n",
       "      <td>8.60</td>\n",
       "      <td>0</td>\n",
       "      <td>4.446589</td>\n",
       "      <td>0</td>\n",
       "      <td>0</td>\n",
       "      <td>1</td>\n",
       "      <td>0</td>\n",
       "      <td>0</td>\n",
       "      <td>0</td>\n",
       "      <td>...</td>\n",
       "      <td>0</td>\n",
       "      <td>0</td>\n",
       "      <td>0</td>\n",
       "      <td>0</td>\n",
       "      <td>0</td>\n",
       "      <td>0</td>\n",
       "      <td>0</td>\n",
       "      <td>0</td>\n",
       "      <td>0</td>\n",
       "      <td>0</td>\n",
       "    </tr>\n",
       "    <tr>\n",
       "      <th>2</th>\n",
       "      <td>10.85</td>\n",
       "      <td>10.53</td>\n",
       "      <td>0</td>\n",
       "      <td>14.973154</td>\n",
       "      <td>0</td>\n",
       "      <td>0</td>\n",
       "      <td>0</td>\n",
       "      <td>0</td>\n",
       "      <td>0</td>\n",
       "      <td>0</td>\n",
       "      <td>...</td>\n",
       "      <td>0</td>\n",
       "      <td>0</td>\n",
       "      <td>0</td>\n",
       "      <td>0</td>\n",
       "      <td>0</td>\n",
       "      <td>0</td>\n",
       "      <td>0</td>\n",
       "      <td>0</td>\n",
       "      <td>0</td>\n",
       "      <td>0</td>\n",
       "    </tr>\n",
       "    <tr>\n",
       "      <th>3</th>\n",
       "      <td>5.52</td>\n",
       "      <td>1.92</td>\n",
       "      <td>0</td>\n",
       "      <td>0.100054</td>\n",
       "      <td>0</td>\n",
       "      <td>0</td>\n",
       "      <td>0</td>\n",
       "      <td>0</td>\n",
       "      <td>0</td>\n",
       "      <td>0</td>\n",
       "      <td>...</td>\n",
       "      <td>0</td>\n",
       "      <td>0</td>\n",
       "      <td>0</td>\n",
       "      <td>0</td>\n",
       "      <td>0</td>\n",
       "      <td>0</td>\n",
       "      <td>0</td>\n",
       "      <td>0</td>\n",
       "      <td>1</td>\n",
       "      <td>0</td>\n",
       "    </tr>\n",
       "    <tr>\n",
       "      <th>4</th>\n",
       "      <td>8.60</td>\n",
       "      <td>7.10</td>\n",
       "      <td>0</td>\n",
       "      <td>3.501480</td>\n",
       "      <td>0</td>\n",
       "      <td>0</td>\n",
       "      <td>0</td>\n",
       "      <td>0</td>\n",
       "      <td>0</td>\n",
       "      <td>0</td>\n",
       "      <td>...</td>\n",
       "      <td>0</td>\n",
       "      <td>0</td>\n",
       "      <td>0</td>\n",
       "      <td>0</td>\n",
       "      <td>0</td>\n",
       "      <td>0</td>\n",
       "      <td>0</td>\n",
       "      <td>0</td>\n",
       "      <td>1</td>\n",
       "      <td>0</td>\n",
       "    </tr>\n",
       "  </tbody>\n",
       "</table>\n",
       "<p>5 rows × 29 columns</p>\n",
       "</div>"
      ],
      "text/plain": [
       "     ATA  api_eta  hour   distance  강남구  강동구  강북구  강서구  관악구  광진구  ...  성동구  \\\n",
       "0  10.60     5.65     0   5.240020    0    0    0    0    0    0  ...    0   \n",
       "1   9.20     8.60     0   4.446589    0    0    1    0    0    0  ...    0   \n",
       "2  10.85    10.53     0  14.973154    0    0    0    0    0    0  ...    0   \n",
       "3   5.52     1.92     0   0.100054    0    0    0    0    0    0  ...    0   \n",
       "4   8.60     7.10     0   3.501480    0    0    0    0    0    0  ...    0   \n",
       "\n",
       "   성북구  송파구  양천구  영등포구  용산구  은평구  종로구  중구  중랑구  \n",
       "0    0    0    0     0    0    0    0   0    0  \n",
       "1    0    0    0     0    0    0    0   0    0  \n",
       "2    0    0    0     0    0    0    0   0    0  \n",
       "3    0    0    0     0    0    0    0   1    0  \n",
       "4    0    0    0     0    0    0    0   1    0  \n",
       "\n",
       "[5 rows x 29 columns]"
      ]
     },
     "execution_count": 51,
     "metadata": {},
     "output_type": "execute_result"
    }
   ],
   "source": [
    "eta2 = pd.concat([eta2, pickup_gu], axis = 1)\n",
    "eta2.head()"
   ]
  },
  {
   "cell_type": "code",
   "execution_count": null,
   "id": "e9423bc7-bf3e-4032-b93a-33460cf1c24f",
   "metadata": {
    "id": "e9423bc7-bf3e-4032-b93a-33460cf1c24f"
   },
   "outputs": [],
   "source": [
    "train2 = eta2[:12000]\n",
    "test2 = eta2[12000:]\n",
    "x_tn2 = np.asarray(train2.drop('ATA', 1))\n",
    "x_te2 = np.asarray(test2.drop('ATA', 1))\n",
    "y_tn2 = np.asarray(train2['ATA'])\n",
    "y_te2 = np.asarray(test2['ATA'])\n",
    "eta_features2 = [x for i, x in enumerate(eta2.columns) if i != 0]"
   ]
  },
  {
   "cell_type": "code",
   "execution_count": 48,
   "id": "be83a90d-fa1a-4d70-a9ba-e7d6102aa639",
   "metadata": {},
   "outputs": [],
   "source": [
    "params2 = {\n",
    "    'n_estimators' : [50, 100, 150],\n",
    "    'max_depth' : [2, 3, 4],\n",
    "    'min_samples_leaf' : [5, 10],\n",
    "    'learning_rate' : [0.05, 0.1],\n",
    "    'loss' : ['ls',]\n",
    "}\n",
    "\n",
    "reg = ensemble.GradientBoostingRegressor()"
   ]
  },
  {
   "cell_type": "code",
   "execution_count": null,
   "id": "63725f41-dabb-4d40-a968-e2600026f42f",
   "metadata": {},
   "outputs": [],
   "source": [
    "grid_reg2 = GridSearchCV(reg, param_grid = params2, cv = 3, refit = True)"
   ]
  },
  {
   "cell_type": "code",
   "execution_count": null,
   "id": "01d95ddb-084e-4263-ac78-a9d94f71b27f",
   "metadata": {},
   "outputs": [
    {
     "data": {
      "text/plain": [
       "GridSearchCV(cv=3, estimator=GradientBoostingRegressor(),\n",
       "             param_grid={'learning_rate': [0.05, 0.1], 'loss': ['ls'],\n",
       "                         'max_depth': [2, 3, 4], 'min_samples_leaf': [5, 10],\n",
       "                         'n_estimators': [50, 100, 150]})"
      ]
     },
     "execution_count": 55,
     "metadata": {},
     "output_type": "execute_result"
    }
   ],
   "source": [
    "grid_reg2.fit(x_tn2, y_tn2)"
   ]
  },
  {
   "cell_type": "code",
   "execution_count": null,
   "id": "0592ae00-7a56-4e81-98cf-7e288c47fcb7",
   "metadata": {},
   "outputs": [
    {
     "name": "stdout",
     "output_type": "stream",
     "text": [
      "{'learning_rate': 0.05, 'loss': 'ls', 'max_depth': 2, 'min_samples_leaf': 10, 'n_estimators': 150}\n"
     ]
    }
   ],
   "source": [
    "scores2 = pd.DataFrame(grid_reg2.cv_results_)\n",
    "for i in range(len(scores2)) :\n",
    "    if (scores2.loc[i, 'rank_test_score']) == 1 :\n",
    "        params_fit2 = scores2.loc[i, 'params']\n",
    "        print(params_fit2)"
   ]
  },
  {
   "cell_type": "code",
   "execution_count": null,
   "id": "e1316ece-84cf-4427-98f8-d1a1ed6be8bd",
   "metadata": {},
   "outputs": [
    {
     "data": {
      "text/plain": [
       "GradientBoostingRegressor(learning_rate=0.05, max_depth=2, min_samples_leaf=10,\n",
       "                          n_estimators=150)"
      ]
     },
     "execution_count": 57,
     "metadata": {},
     "output_type": "execute_result"
    }
   ],
   "source": [
    "reg_fit2 = ensemble.GradientBoostingRegressor(**params_fit2)\n",
    "reg_fit2.fit(x_tn2, y_tn2)"
   ]
  },
  {
   "cell_type": "code",
   "execution_count": null,
   "id": "4b0e4f91-76e6-4be9-b67a-785df98c9a34",
   "metadata": {},
   "outputs": [
    {
     "data": {
      "image/png": "[encoded data removed]",
      "text/plain": [
       "<Figure size 432x432 with 1 Axes>"
      ]
     },
     "metadata": {
      "needs_background": "light"
     },
     "output_type": "display_data"
    }
   ],
   "source": [
    "test_score2 = np.zeros((params_fit2['n_estimators'],), dtype = np.float64)\n",
    "for i, y_pred in enumerate(reg_fit2.staged_predict(x_te)):\n",
    "    test_score[i] = reg_fit2.loss_(y_te, y_pred)\n",
    "\n",
    "fig = plt.figure(figsize = (6,6))\n",
    "plt.subplot(1,1,1)\n",
    "plt.title('Deviance')\n",
    "plt.plot(np.arange(params_fit['n_estimators']) + 1, reg_fit.train_score_, 'b-', label = 'Training set')\n",
    "plt.plot(np.arange(params_fit['n_estimators']) + 1, test_score, 'r-', label = 'Test set')\n",
    "plt.legend(loc = 'upper right')\n",
    "plt.xlabel('Boosting Iterations')\n",
    "plt.ylabel('Deviance')\n",
    "\n",
    "fig.tight_layout()\n",
    "plt.show()"
   ]
  },
  {
   "cell_type": "code",
   "execution_count": 60,
   "id": "76db9b37-2fff-4f8f-8ecc-11abbf560843",
   "metadata": {},
   "outputs": [
    {
     "name": "stdout",
     "output_type": "stream",
     "text": [
      "Errors of Regression model : One-hot encoding\n",
      "The mean squared error(MSE) on test set: 6.8517\n",
      "The initial error of API ETA on test set: 8.8452\n",
      "The mean absolute error (MAE) on test set: 2.0248\n",
      "The initial error of API ETA on test set: 2.0851\n"
     ]
    }
   ],
   "source": [
    "print(\"Errors of Regression model : One-hot encoding\")\n",
    "mse = mean_squared_error(y_te2, reg_fit2.predict(x_te2))\n",
    "print(\"The mean squared error(MSE) on test set: {:.4f}\".format(mse))\n",
    "print(\"The initial error of API ETA on test set: {:.4f}\".format(mean_squared_error(y_te2, x_te2[:,0]) ))\n",
    "\n",
    "mae = mean_absolute_error(y_te2, reg_fit2.predict(x_te2))\n",
    "print(\"The mean absolute error (MAE) on test set: {:.4f}\".format(mae))\n",
    "print(\"The initial error of API ETA on test set: {:.4f}\".format(mean_absolute_error(y_te2, x_te2[:,0]) ))"
   ]
  }
 ],
 "metadata": {
  "colab": {
   "name": "Homework_2.ipynb",
   "provenance": []
  },
  "kernelspec": {
   "display_name": "Python 3 (ipykernel)",
   "language": "python",
   "name": "python3"
  },
  "language_info": {
   "codemirror_mode": {
    "name": "ipython",
    "version": 3
   },
   "file_extension": ".py",
   "mimetype": "text/x-python",
   "name": "python",
   "nbconvert_exporter": "python",
   "pygments_lexer": "ipython3",
   "version": "3.9.7"
  }
 },
 "nbformat": 4,
 "nbformat_minor": 5
}
